{
 "cells": [
  {
   "cell_type": "markdown",
   "metadata": {
    "toc": true
   },
   "source": [
    "<h1>Содержание<span class=\"tocSkip\"></span></h1>\n",
    "<div class=\"toc\"><ul class=\"toc-item\"><li><span><a href=\"#Подготовка\" data-toc-modified-id=\"Подготовка-1\"><span class=\"toc-item-num\">1&nbsp;&nbsp;</span>Подготовка</a></span><ul class=\"toc-item\"><li><span><a href=\"#Очистка-текста\" data-toc-modified-id=\"Очистка-текста-1.1\"><span class=\"toc-item-num\">1.1&nbsp;&nbsp;</span>Очистка текста</a></span></li><li><span><a href=\"#Лемматизация\" data-toc-modified-id=\"Лемматизация-1.2\"><span class=\"toc-item-num\">1.2&nbsp;&nbsp;</span>Лемматизация</a></span></li></ul></li><li><span><a href=\"#Обучение\" data-toc-modified-id=\"Обучение-2\"><span class=\"toc-item-num\">2&nbsp;&nbsp;</span>Обучение</a></span></li><li><span><a href=\"#Расширение-проекта:-использование-BERT-и-интерпретация-модели\" data-toc-modified-id=\"Расширение-проекта:-использование-BERT-и-интерпретация-модели-3\"><span class=\"toc-item-num\">3&nbsp;&nbsp;</span>Расширение проекта: использование BERT и интерпретация модели</a></span></li><li><span><a href=\"#Отчёт-по-первой-части-проекта-классификации-токсичных-комментариев\" data-toc-modified-id=\"Отчёт-по-первой-части-проекта-классификации-токсичных-комментариев-4\"><span class=\"toc-item-num\">4&nbsp;&nbsp;</span>Отчёт по первой части проекта классификации токсичных комментариев</a></span><ul class=\"toc-item\"><li><span><a href=\"#Вывод-по-второй-части-проекта:-расширение-с-использованием-BERT-и-интерпретация-модели\" data-toc-modified-id=\"Вывод-по-второй-части-проекта:-расширение-с-использованием-BERT-и-интерпретация-модели-4.1\"><span class=\"toc-item-num\">4.1&nbsp;&nbsp;</span>Вывод по второй части проекта: расширение с использованием BERT и интерпретация модели</a></span></li></ul></li><li><span><a href=\"#Общий-вывод-по-проекту\" data-toc-modified-id=\"Общий-вывод-по-проекту-5\"><span class=\"toc-item-num\">5&nbsp;&nbsp;</span>Общий вывод по проекту</a></span></li><li><span><a href=\"#Чек-лист-проекта\" data-toc-modified-id=\"Чек-лист-проекта-6\"><span class=\"toc-item-num\">6&nbsp;&nbsp;</span>Чек лист проекта</a></span></li></ul></div>"
   ]
  },
  {
   "cell_type": "markdown",
   "metadata": {},
   "source": [
    "# Проект для «Викишоп»"
   ]
  },
  {
   "cell_type": "markdown",
   "metadata": {},
   "source": [
    "Интернет-магазин «Викишоп» запускает новый сервис. Теперь пользователи могут редактировать и дополнять описания товаров, как в вики-сообществах. То есть клиенты предлагают свои правки и комментируют изменения других. Магазину нужен инструмент, который будет искать токсичные комментарии и отправлять их на модерацию. \n",
    "\n",
    "Обучите модель классифицировать комментарии на позитивные и негативные. В вашем распоряжении набор данных с разметкой о токсичности правок.\n",
    "\n",
    "Постройте модель со значением метрики качества *F1* не меньше 0.75. \n",
    "\n",
    "**Инструкция по выполнению проекта**\n",
    "\n",
    "1. Загрузите и подготовьте данные.\n",
    "2. Обучите разные модели. \n",
    "3. Сделайте выводы.\n",
    "\n",
    "Для выполнения проекта применять *BERT* необязательно, но вы можете попробовать.\n",
    "\n",
    "**Описание данных**\n",
    "\n",
    "Данные находятся в файле `toxic_comments.csv`. Столбец *text* в нём содержит текст комментария, а *toxic* — целевой признак."
   ]
  },
  {
   "cell_type": "code",
   "execution_count": 1,
   "metadata": {},
   "outputs": [],
   "source": [
    "!pip install optuna catboost lightgbm -q"
   ]
  },
  {
   "cell_type": "code",
   "execution_count": 2,
   "metadata": {},
   "outputs": [],
   "source": [
    "!pip install WordCloud -q"
   ]
  },
  {
   "cell_type": "code",
   "execution_count": 3,
   "metadata": {},
   "outputs": [],
   "source": [
    "!pip install --upgrade torch torchvision torchaudio --extra-index-url https://download.pytorch.org/whl/cpu -q"
   ]
  },
  {
   "cell_type": "code",
   "execution_count": 4,
   "metadata": {},
   "outputs": [],
   "source": [
    "!pip install sentence-transformers -q"
   ]
  },
  {
   "cell_type": "code",
   "execution_count": 5,
   "metadata": {},
   "outputs": [
    {
     "name": "stderr",
     "output_type": "stream",
     "text": [
      "[nltk_data] Downloading package stopwords to /home/jovyan/nltk_data...\n",
      "[nltk_data]   Package stopwords is already up-to-date!\n",
      "[nltk_data] Downloading package wordnet to /home/jovyan/nltk_data...\n",
      "[nltk_data]   Package wordnet is already up-to-date!\n",
      "[nltk_data] Downloading package punkt to /home/jovyan/nltk_data...\n",
      "[nltk_data]   Package punkt is already up-to-date!\n",
      "[nltk_data] Downloading package averaged_perceptron_tagger to\n",
      "[nltk_data]     /home/jovyan/nltk_data...\n",
      "[nltk_data]   Package averaged_perceptron_tagger is already up-to-\n",
      "[nltk_data]       date!\n"
     ]
    }
   ],
   "source": [
    "# библиотеки\n",
    "import pandas as pd\n",
    "import matplotlib.pyplot as plt\n",
    "from matplotlib import rcParams\n",
    "from matplotlib import font_manager\n",
    "from collections import Counter\n",
    "import numpy as np\n",
    "import seaborn as sns\n",
    "import time\n",
    "import re\n",
    "from tqdm import tqdm\n",
    "\n",
    "import optuna\n",
    "from sklearn.model_selection import train_test_split, GridSearchCV\n",
    "from sklearn.feature_extraction.text import TfidfVectorizer\n",
    "from sklearn.pipeline import Pipeline\n",
    "from sklearn.model_selection import cross_val_score, StratifiedKFold\n",
    "from sklearn.metrics import f1_score, classification_report, make_scorer\n",
    "\n",
    "from catboost import CatBoostClassifier\n",
    "from lightgbm import LGBMClassifier\n",
    "from sklearn.linear_model import LogisticRegression\n",
    "from sklearn.linear_model import RidgeClassifier\n",
    "from sklearn.ensemble import RandomForestClassifier, StackingClassifier\n",
    "from sklearn.svm import LinearSVC\n",
    "from wordcloud import WordCloud\n",
    "from sentence_transformers import SentenceTransformer\n",
    "from sklearn.decomposition import TruncatedSVD\n",
    "\n",
    "import nltk\n",
    "from nltk.stem import WordNetLemmatizer\n",
    "from nltk.corpus import stopwords as nltk_stopwords\n",
    "from nltk.corpus import wordnet\n",
    "nltk.download('stopwords')\n",
    "nltk.download('wordnet')\n",
    "nltk.download('punkt')\n",
    "nltk.download('averaged_perceptron_tagger')\n",
    "\n",
    "# блокиратор предупреждений\n",
    "import warnings\n",
    "warnings.filterwarnings(\"ignore\")\n",
    "pd.options.display.max_colwidth = 400 # увеличим количество выводимых символов в ячейках"
   ]
  },
  {
   "cell_type": "code",
   "execution_count": 6,
   "metadata": {
    "scrolled": true
   },
   "outputs": [
    {
     "name": "stdout",
     "output_type": "stream",
     "text": [
      "<class 'pandas.core.frame.DataFrame'>\n",
      "Int64Index: 159292 entries, 0 to 159450\n",
      "Data columns (total 2 columns):\n",
      " #   Column  Non-Null Count   Dtype \n",
      "---  ------  --------------   ----- \n",
      " 0   text    159292 non-null  object\n",
      " 1   toxic   159292 non-null  int64 \n",
      "dtypes: int64(1), object(1)\n",
      "memory usage: 3.6+ MB\n"
     ]
    }
   ],
   "source": [
    "data = pd.read_csv('/datasets/toxic_comments.csv', index_col='Unnamed: 0')\n",
    "data.info()"
   ]
  },
  {
   "cell_type": "markdown",
   "metadata": {},
   "source": [
    "## Подготовка"
   ]
  },
  {
   "cell_type": "code",
   "execution_count": 7,
   "metadata": {
    "scrolled": true
   },
   "outputs": [
    {
     "data": {
      "text/html": [
       "<div>\n",
       "<style scoped>\n",
       "    .dataframe tbody tr th:only-of-type {\n",
       "        vertical-align: middle;\n",
       "    }\n",
       "\n",
       "    .dataframe tbody tr th {\n",
       "        vertical-align: top;\n",
       "    }\n",
       "\n",
       "    .dataframe thead th {\n",
       "        text-align: right;\n",
       "    }\n",
       "</style>\n",
       "<table border=\"1\" class=\"dataframe\">\n",
       "  <thead>\n",
       "    <tr style=\"text-align: right;\">\n",
       "      <th></th>\n",
       "      <th>text</th>\n",
       "      <th>toxic</th>\n",
       "    </tr>\n",
       "  </thead>\n",
       "  <tbody>\n",
       "    <tr>\n",
       "      <th>0</th>\n",
       "      <td>Explanation\\nWhy the edits made under my username Hardcore Metallica Fan were reverted? They weren't vandalisms, just closure on some GAs after I voted at New York Dolls FAC. And please don't remove the template from the talk page since I'm retired now.89.205.38.27</td>\n",
       "      <td>0</td>\n",
       "    </tr>\n",
       "    <tr>\n",
       "      <th>1</th>\n",
       "      <td>D'aww! He matches this background colour I'm seemingly stuck with. Thanks.  (talk) 21:51, January 11, 2016 (UTC)</td>\n",
       "      <td>0</td>\n",
       "    </tr>\n",
       "    <tr>\n",
       "      <th>2</th>\n",
       "      <td>Hey man, I'm really not trying to edit war. It's just that this guy is constantly removing relevant information and talking to me through edits instead of my talk page. He seems to care more about the formatting than the actual info.</td>\n",
       "      <td>0</td>\n",
       "    </tr>\n",
       "    <tr>\n",
       "      <th>3</th>\n",
       "      <td>\"\\nMore\\nI can't make any real suggestions on improvement - I wondered if the section statistics should be later on, or a subsection of \"\"types of accidents\"\"  -I think the references may need tidying so that they are all in the exact same format ie date format etc. I can do that later on, if no-one else does first - if you have any preferences for formatting style on references or want to do ...</td>\n",
       "      <td>0</td>\n",
       "    </tr>\n",
       "    <tr>\n",
       "      <th>4</th>\n",
       "      <td>You, sir, are my hero. Any chance you remember what page that's on?</td>\n",
       "      <td>0</td>\n",
       "    </tr>\n",
       "    <tr>\n",
       "      <th>...</th>\n",
       "      <td>...</td>\n",
       "      <td>...</td>\n",
       "    </tr>\n",
       "    <tr>\n",
       "      <th>159446</th>\n",
       "      <td>\":::::And for the second time of asking, when your view completely contradicts the coverage in reliable sources, why should anyone care what you feel? You can't even give a consistent argument - is the opening only supposed to mention significant aspects, or the \"\"most significant\"\" ones?   \\n\\n\"</td>\n",
       "      <td>0</td>\n",
       "    </tr>\n",
       "    <tr>\n",
       "      <th>159447</th>\n",
       "      <td>You should be ashamed of yourself \\n\\nThat is a horrible thing you put on my talk page.  128.61.19.93</td>\n",
       "      <td>0</td>\n",
       "    </tr>\n",
       "    <tr>\n",
       "      <th>159448</th>\n",
       "      <td>Spitzer \\n\\nUmm, theres no actual article for prostitution ring.  - Crunch Captain.</td>\n",
       "      <td>0</td>\n",
       "    </tr>\n",
       "    <tr>\n",
       "      <th>159449</th>\n",
       "      <td>And it looks like it was actually you who put on the speedy to have the first version deleted now that I look at it.</td>\n",
       "      <td>0</td>\n",
       "    </tr>\n",
       "    <tr>\n",
       "      <th>159450</th>\n",
       "      <td>\"\\nAnd ... I really don't think you understand.  I came here and my idea was bad right away.  What kind of community goes \"\"you have bad ideas\"\" go away, instead of helping rewrite them.   \"</td>\n",
       "      <td>0</td>\n",
       "    </tr>\n",
       "  </tbody>\n",
       "</table>\n",
       "<p>159292 rows × 2 columns</p>\n",
       "</div>"
      ],
      "text/plain": [
       "                                                                                                                                                                                                                                                                                                                                                                                                                   text  \\\n",
       "0                                                                                                                                             Explanation\\nWhy the edits made under my username Hardcore Metallica Fan were reverted? They weren't vandalisms, just closure on some GAs after I voted at New York Dolls FAC. And please don't remove the template from the talk page since I'm retired now.89.205.38.27   \n",
       "1                                                                                                                                                                                                                                                                                                      D'aww! He matches this background colour I'm seemingly stuck with. Thanks.  (talk) 21:51, January 11, 2016 (UTC)   \n",
       "2                                                                                                                                                                             Hey man, I'm really not trying to edit war. It's just that this guy is constantly removing relevant information and talking to me through edits instead of my talk page. He seems to care more about the formatting than the actual info.   \n",
       "3       \"\\nMore\\nI can't make any real suggestions on improvement - I wondered if the section statistics should be later on, or a subsection of \"\"types of accidents\"\"  -I think the references may need tidying so that they are all in the exact same format ie date format etc. I can do that later on, if no-one else does first - if you have any preferences for formatting style on references or want to do ...   \n",
       "4                                                                                                                                                                                                                                                                                                                                                   You, sir, are my hero. Any chance you remember what page that's on?   \n",
       "...                                                                                                                                                                                                                                                                                                                                                                                                                 ...   \n",
       "159446                                                                                                        \":::::And for the second time of asking, when your view completely contradicts the coverage in reliable sources, why should anyone care what you feel? You can't even give a consistent argument - is the opening only supposed to mention significant aspects, or the \"\"most significant\"\" ones?   \\n\\n\"   \n",
       "159447                                                                                                                                                                                                                                                                                                            You should be ashamed of yourself \\n\\nThat is a horrible thing you put on my talk page.  128.61.19.93   \n",
       "159448                                                                                                                                                                                                                                                                                                                              Spitzer \\n\\nUmm, theres no actual article for prostitution ring.  - Crunch Captain.   \n",
       "159449                                                                                                                                                                                                                                                                                             And it looks like it was actually you who put on the speedy to have the first version deleted now that I look at it.   \n",
       "159450                                                                                                                                                                                                                   \"\\nAnd ... I really don't think you understand.  I came here and my idea was bad right away.  What kind of community goes \"\"you have bad ideas\"\" go away, instead of helping rewrite them.   \"   \n",
       "\n",
       "        toxic  \n",
       "0           0  \n",
       "1           0  \n",
       "2           0  \n",
       "3           0  \n",
       "4           0  \n",
       "...       ...  \n",
       "159446      0  \n",
       "159447      0  \n",
       "159448      0  \n",
       "159449      0  \n",
       "159450      0  \n",
       "\n",
       "[159292 rows x 2 columns]"
      ]
     },
     "metadata": {},
     "output_type": "display_data"
    }
   ],
   "source": [
    "display(data)"
   ]
  },
  {
   "cell_type": "code",
   "execution_count": 8,
   "metadata": {},
   "outputs": [
    {
     "data": {
      "image/png": "[encoded data removed]",
      "text/plain": [
       "<Figure size 576x288 with 1 Axes>"
      ]
     },
     "metadata": {},
     "output_type": "display_data"
    }
   ],
   "source": [
    "# Установка стиля графика\n",
    "sns.set_style('darkgrid')\n",
    "# Создание горизонтального графика\n",
    "plt.figure(figsize=(8, 4))\n",
    "ax = sns.countplot(y='toxic', data=data, palette='pastel')\n",
    "# Добавление справочной информации справа от графика\n",
    "plt.text(\n",
    "    x=ax.get_xlim()[1] * 1.05,  # x-координата — правее максимального значения по оси X\n",
    "    y=0.5,  # y-координата — между двумя категориями\n",
    "    s=\"0 = Не токсичный\\n1 = Токсичный\",\n",
    "    fontsize=12,\n",
    "    verticalalignment='center',\n",
    "    bbox=dict(facecolor='white', edgecolor='black', boxstyle='round,pad=0.5')\n",
    ")\n",
    "\n",
    "plt.tight_layout()\n",
    "plt.show()\n"
   ]
  },
  {
   "cell_type": "markdown",
   "metadata": {},
   "source": [
    "Негативных комментариев в датафрейме гораздо меньше, чем нейтральных. \n",
    "Видим большой дисбаланс классов."
   ]
  },
  {
   "cell_type": "markdown",
   "metadata": {},
   "source": [
    "### Очистка текста"
   ]
  },
  {
   "cell_type": "code",
   "execution_count": 9,
   "metadata": {},
   "outputs": [],
   "source": [
    "# напишем функцию, которая оставит в тексте только латинские символы и пробелы.\n",
    "def clear_text(text):\n",
    "    clear = re.sub(r'[^a-zA-Z ] ', ' ', text.lower())\n",
    "    clear = clear.split()\n",
    "    clear = ' '.join(clear)\n",
    "    return clear\n",
    "\n",
    "data['text'] = data['text'].apply(clear_text)"
   ]
  },
  {
   "cell_type": "markdown",
   "metadata": {},
   "source": [
    "### Лемматизация"
   ]
  },
  {
   "cell_type": "code",
   "execution_count": 10,
   "metadata": {},
   "outputs": [],
   "source": [
    "# лемматизация английского текста при помощи WordNetLemmatizer.\n",
    "def get_wordnet_pos(word):\n",
    "    tag = nltk.pos_tag([word])[0][1][0].upper()\n",
    "    tag_dict = {\"J\": wordnet.ADJ,\n",
    "                \"N\": wordnet.NOUN,\n",
    "                \"V\": wordnet.VERB,\n",
    "                \"R\": wordnet.ADV}\n",
    "    return tag_dict.get(tag, wordnet.NOUN)"
   ]
  },
  {
   "cell_type": "code",
   "execution_count": 11,
   "metadata": {},
   "outputs": [
    {
     "name": "stderr",
     "output_type": "stream",
     "text": [
      "100%|██████████| 159292/159292 [15:28<00:00, 171.58it/s]\n"
     ]
    }
   ],
   "source": [
    "tqdm.pandas()\n",
    "\n",
    "stopwords = set(nltk_stopwords.words('english'))\n",
    "\n",
    "def lemmatize(text):  \n",
    "    lemmatizer = WordNetLemmatizer()\n",
    "    word_list = nltk.word_tokenize(text)\n",
    "    lemm_text = ' '.join([lemmatizer.lemmatize(w, get_wordnet_pos(w)) for w in word_list if w not in stopwords])\n",
    "    return lemm_text\n",
    "\n",
    "data['lemm_text'] = data['text'].progress_apply(lemmatize)"
   ]
  },
  {
   "cell_type": "code",
   "execution_count": 12,
   "metadata": {},
   "outputs": [
    {
     "data": {
      "text/html": [
       "<div>\n",
       "<style scoped>\n",
       "    .dataframe tbody tr th:only-of-type {\n",
       "        vertical-align: middle;\n",
       "    }\n",
       "\n",
       "    .dataframe tbody tr th {\n",
       "        vertical-align: top;\n",
       "    }\n",
       "\n",
       "    .dataframe thead th {\n",
       "        text-align: right;\n",
       "    }\n",
       "</style>\n",
       "<table border=\"1\" class=\"dataframe\">\n",
       "  <thead>\n",
       "    <tr style=\"text-align: right;\">\n",
       "      <th></th>\n",
       "      <th>text</th>\n",
       "      <th>toxic</th>\n",
       "      <th>lemm_text</th>\n",
       "    </tr>\n",
       "  </thead>\n",
       "  <tbody>\n",
       "    <tr>\n",
       "      <th>86894</th>\n",
       "      <td>\" it was because someone put a on so it affected every single page marked as inuse i've since fixed it p \\ talk \"</td>\n",
       "      <td>0</td>\n",
       "      <td>`` someone put affected every single page marked inuse 've since fix p \\ talk ``</td>\n",
       "    </tr>\n",
       "    <tr>\n",
       "      <th>86460</th>\n",
       "      <td>\" fermat aware of euler's result i've added reference křížek luca somer 2001 p 38 remark 4.1 to the claim that fermat probably knew this result however the claim that it is \"\"widely believed\" might be too strong the mentioned remarks says the following: remark 4.15 as mentioned in the literature (cf. e.g. [lenstra lenstra manasse pollard]) fermat probably knew the previous theorem although its...</td>\n",
       "      <td>0</td>\n",
       "      <td>`` fermat aware euler 's result 've add reference křížek luca somer 2001 p 38 remark 4.1 claim fermat probably knew result however claim `` '' widely believe '' might strong mention remark say follow : remark 4.15 mention literature ( cf . e.g . [ lenstra lenstra manasse pollard ] ) fermat probably knew previous theorem although proof give later euler 174 ( see [ burton p.219 ] ) however uncle...</td>\n",
       "    </tr>\n",
       "    <tr>\n",
       "      <th>95113</th>\n",
       "      <td>\" thank you but administrators must also follow the policies now gwen changed or deleted too many of my editspure and simple i mean where does she get off saying the police surmised peg died on sept 18 what's her source she have the police report i do the police surmised no such thing the death certificatenot my original researchsays \"\"date of suicide september 16,\" as does the police report c...</td>\n",
       "      <td>0</td>\n",
       "      <td>`` thank administrator must also follow policy gwen change delete many editspure simple mean get say police surmise peg die sept 18 's source police report police surmise thing death certificatenot original researchsays `` '' date suicide september 16 , '' police report coroner report inquest date death give september 18 1932 declare dead coroner coroner examine body another hour eleven minute...</td>\n",
       "    </tr>\n",
       "  </tbody>\n",
       "</table>\n",
       "</div>"
      ],
      "text/plain": [
       "                                                                                                                                                                                                                                                                                                                                                                                                                  text  \\\n",
       "86894                                                                                                                                                                                                                                                                                                \" it was because someone put a on so it affected every single page marked as inuse i've since fixed it p \\ talk \"   \n",
       "86460  \" fermat aware of euler's result i've added reference křížek luca somer 2001 p 38 remark 4.1 to the claim that fermat probably knew this result however the claim that it is \"\"widely believed\" might be too strong the mentioned remarks says the following: remark 4.15 as mentioned in the literature (cf. e.g. [lenstra lenstra manasse pollard]) fermat probably knew the previous theorem although its...   \n",
       "95113  \" thank you but administrators must also follow the policies now gwen changed or deleted too many of my editspure and simple i mean where does she get off saying the police surmised peg died on sept 18 what's her source she have the police report i do the police surmised no such thing the death certificatenot my original researchsays \"\"date of suicide september 16,\" as does the police report c...   \n",
       "\n",
       "       toxic  \\\n",
       "86894      0   \n",
       "86460      0   \n",
       "95113      0   \n",
       "\n",
       "                                                                                                                                                                                                                                                                                                                                                                                                             lemm_text  \n",
       "86894                                                                                                                                                                                                                                                                                                                                 `` someone put affected every single page marked inuse 've since fix p \\ talk ``  \n",
       "86460  `` fermat aware euler 's result 've add reference křížek luca somer 2001 p 38 remark 4.1 claim fermat probably knew result however claim `` '' widely believe '' might strong mention remark say follow : remark 4.15 mention literature ( cf . e.g . [ lenstra lenstra manasse pollard ] ) fermat probably knew previous theorem although proof give later euler 174 ( see [ burton p.219 ] ) however uncle...  \n",
       "95113  `` thank administrator must also follow policy gwen change delete many editspure simple mean get say police surmise peg die sept 18 's source police report police surmise thing death certificatenot original researchsays `` '' date suicide september 16 , '' police report coroner report inquest date death give september 18 1932 declare dead coroner coroner examine body another hour eleven minute...  "
      ]
     },
     "execution_count": 12,
     "metadata": {},
     "output_type": "execute_result"
    }
   ],
   "source": [
    "data.sample(3)"
   ]
  },
  {
   "cell_type": "markdown",
   "metadata": {},
   "source": [
    "## Обучение"
   ]
  },
  {
   "cell_type": "code",
   "execution_count": 13,
   "metadata": {
    "scrolled": true
   },
   "outputs": [
    {
     "name": "stdout",
     "output_type": "stream",
     "text": [
      "Размер тренировочной выборки: (127433, 127433)\n",
      "Размер тестовой выборки: (31859, 31859)\n"
     ]
    }
   ],
   "source": [
    "# --- 1. Разделим данные на тренировочную и тестовую выборки\n",
    "X = data['lemm_text']\n",
    "y = data['toxic']\n",
    "\n",
    "X_train, X_test, y_train, y_test = train_test_split(\n",
    "    X, y, test_size=0.2, shuffle=False, random_state=42)\n",
    "# Проверка размеров выборок\n",
    "print(f'Размер тренировочной выборки: {len(X_train), len(y_train)}')\n",
    "print(f'Размер тестовой выборки: {len(X_test), len(y_test)}')"
   ]
  },
  {
   "cell_type": "markdown",
   "metadata": {},
   "source": [
    "Реализуем векторизацию текста с использованием TF-IDF - числовое представление текста, где каждое слово представлено числовым значением, отражающим его важность в контексте данного текста. Необходимо ограничить размерность матрицы, тк в случае сохранения всех параметров, потребуется много времени для реализации данного алгоритма обучения."
   ]
  },
  {
   "cell_type": "code",
   "execution_count": 14,
   "metadata": {},
   "outputs": [],
   "source": [
    "# --- 2. Общий векторизатор ---\n",
    "tfidf = TfidfVectorizer(max_features=10000, ngram_range=(1, 2))\n",
    "X_train_tfidf = tfidf.fit_transform(X_train)\n",
    "X_test_tfidf = tfidf.transform(X_test)"
   ]
  },
  {
   "cell_type": "code",
   "execution_count": 15,
   "metadata": {},
   "outputs": [
    {
     "name": "stdout",
     "output_type": "stream",
     "text": [
      "LogisticRegression CV F1: 0.7361\n",
      "RidgeClassifier CV F1: 0.6960\n",
      "LinearSVC CV F1: 0.7676\n"
     ]
    }
   ],
   "source": [
    "# --- 3. Модели ---\n",
    "models = {\n",
    "    'LogisticRegression': LogisticRegression(max_iter=1000, random_state=42),\n",
    "    'RidgeClassifier': RidgeClassifier(),\n",
    "    'LinearSVC': LinearSVC(random_state=42)\n",
    "}\n",
    "\n",
    "f1_scores = {}\n",
    "\n",
    "for name, model in models.items():\n",
    "    score = cross_val_score(model, X_train_tfidf, y_train, cv=5, scoring='f1', n_jobs=-1)\n",
    "    f1_scores[name] = np.mean(score)\n",
    "    print(f'{name} CV F1: {f1_scores[name]:.4f}')"
   ]
  },
  {
   "cell_type": "code",
   "execution_count": 16,
   "metadata": {},
   "outputs": [
    {
     "name": "stdout",
     "output_type": "stream",
     "text": [
      "\n",
      " Лучшая одиночная модель: LinearSVC (F1: 0.7676)\n"
     ]
    }
   ],
   "source": [
    "# --- 4. Выбор лучшей одиночной модели ---\n",
    "best_model_name = max(f1_scores, key=f1_scores.get)\n",
    "best_model = models[best_model_name]\n",
    "print(f'\\n Лучшая одиночная модель: {best_model_name} (F1: {f1_scores[best_model_name]:.4f})')"
   ]
  },
  {
   "cell_type": "code",
   "execution_count": 17,
   "metadata": {},
   "outputs": [
    {
     "name": "stdout",
     "output_type": "stream",
     "text": [
      "\n",
      " F1 на тесте (StackingClassifier): 0.7728\n"
     ]
    }
   ],
   "source": [
    "# --- 5. Stacking Classifier ---\n",
    "stacking_estimators = [\n",
    "    ('lr', models['LogisticRegression']),\n",
    "    ('ridge', models['RidgeClassifier']),\n",
    "    ('svc', models['LinearSVC'])\n",
    "]\n",
    "\n",
    "stacking_model = StackingClassifier(\n",
    "    estimators=stacking_estimators,\n",
    "    final_estimator=LogisticRegression(max_iter=1000, random_state=42),\n",
    "    n_jobs=-1\n",
    ")\n",
    "\n",
    "stacking_model.fit(X_train_tfidf, y_train)\n",
    "y_pred_stack = stacking_model.predict(X_test_tfidf)\n",
    "f1_stack = f1_score(y_test, y_pred_stack)\n",
    "print(f'\\n F1 на тесте (StackingClassifier): {f1_stack:.4f}')"
   ]
  },
  {
   "cell_type": "code",
   "execution_count": 18,
   "metadata": {},
   "outputs": [],
   "source": [
    "# --- 6. Финальная модель ---\n",
    "if f1_stack > f1_scores[best_model_name]:\n",
    "    final_model = stacking_model\n",
    "    final_name = 'StackingClassifier'\n",
    "    final_f1 = f1_stack\n",
    "else:\n",
    "    final_model = best_model\n",
    "    final_name = best_model_name\n",
    "    final_model.fit(X_train_tfidf, y_train)\n",
    "    final_f1 = f1_score(y_test, final_model.predict(X_test_tfidf))"
   ]
  },
  {
   "cell_type": "code",
   "execution_count": 19,
   "metadata": {
    "scrolled": true
   },
   "outputs": [
    {
     "name": "stdout",
     "output_type": "stream",
     "text": [
      "\n",
      " Финальная модель: StackingClassifier\n",
      " F1 на тесте: 0.7728\n",
      "\n",
      " Classification Report:\n",
      "              precision    recall  f1-score   support\n",
      "\n",
      "           0       0.97      0.99      0.98     28645\n",
      "           1       0.88      0.69      0.77      3214\n",
      "\n",
      "    accuracy                           0.96     31859\n",
      "   macro avg       0.92      0.84      0.88     31859\n",
      "weighted avg       0.96      0.96      0.96     31859\n",
      "\n"
     ]
    }
   ],
   "source": [
    "# --- 7. Итог ---\n",
    "print(f'\\n Финальная модель: {final_name}')\n",
    "print(f' F1 на тесте: {final_f1:.4f}')\n",
    "print(\"\\n Classification Report:\")\n",
    "print(classification_report(y_test, final_model.predict(X_test_tfidf)))"
   ]
  },
  {
   "cell_type": "code",
   "execution_count": 20,
   "metadata": {},
   "outputs": [
    {
     "data": {
      "text/html": [
       "<style  type=\"text/css\" >\n",
       "</style><table id=\"T_235d4_\" ><caption> F1-метрики моделей</caption><thead>    <tr>        <th class=\"blank level0\" ></th>        <th class=\"col_heading level0 col0\" >Model</th>        <th class=\"col_heading level0 col1\" >F1 Score</th>    </tr></thead><tbody>\n",
       "                <tr>\n",
       "                        <th id=\"T_235d4_level0_row0\" class=\"row_heading level0 row0\" >0</th>\n",
       "                        <td id=\"T_235d4_row0_col0\" class=\"data row0 col0\" >StackingClassifier (Test)</td>\n",
       "                        <td id=\"T_235d4_row0_col1\" class=\"data row0 col1\" >0.7728</td>\n",
       "            </tr>\n",
       "            <tr>\n",
       "                        <th id=\"T_235d4_level0_row1\" class=\"row_heading level0 row1\" >1</th>\n",
       "                        <td id=\"T_235d4_row1_col0\" class=\"data row1 col0\" >LinearSVC (CV)</td>\n",
       "                        <td id=\"T_235d4_row1_col1\" class=\"data row1 col1\" >0.7676</td>\n",
       "            </tr>\n",
       "            <tr>\n",
       "                        <th id=\"T_235d4_level0_row2\" class=\"row_heading level0 row2\" >2</th>\n",
       "                        <td id=\"T_235d4_row2_col0\" class=\"data row2 col0\" >LogisticRegression (CV)</td>\n",
       "                        <td id=\"T_235d4_row2_col1\" class=\"data row2 col1\" >0.7361</td>\n",
       "            </tr>\n",
       "            <tr>\n",
       "                        <th id=\"T_235d4_level0_row3\" class=\"row_heading level0 row3\" >3</th>\n",
       "                        <td id=\"T_235d4_row3_col0\" class=\"data row3 col0\" >RidgeClassifier (CV)</td>\n",
       "                        <td id=\"T_235d4_row3_col1\" class=\"data row3 col1\" >0.6960</td>\n",
       "            </tr>\n",
       "    </tbody></table>"
      ],
      "text/plain": [
       "<pandas.io.formats.style.Styler at 0x7f1ce417e850>"
      ]
     },
     "execution_count": 20,
     "metadata": {},
     "output_type": "execute_result"
    }
   ],
   "source": [
    "# Собираем F1-метрики всех моделей\n",
    "results = {\n",
    "    'LogisticRegression (CV)': f1_scores['LogisticRegression'],\n",
    "    'RidgeClassifier (CV)': f1_scores['RidgeClassifier'],\n",
    "    'LinearSVC (CV)': f1_scores['LinearSVC'],\n",
    "    'StackingClassifier (Test)': f1_stack\n",
    "}\n",
    "\n",
    "# Создаем DataFrame\n",
    "results_df = pd.DataFrame(results.items(), columns=['Model', 'F1 Score'])\n",
    "results_df = results_df.sort_values(by='F1 Score', ascending=False).reset_index(drop=True)\n",
    "\n",
    "# Вывод\n",
    "results_df.style.set_caption(\" F1-метрики моделей\").format({'F1 Score': '{:.4f}'})"
   ]
  },
  {
   "cell_type": "code",
   "execution_count": 21,
   "metadata": {
    "scrolled": false
   },
   "outputs": [
    {
     "data": {
      "image/png": "[encoded data removed]",
      "text/plain": [
       "<Figure size 720x216 with 1 Axes>"
      ]
     },
     "metadata": {},
     "output_type": "display_data"
    }
   ],
   "source": [
    "# График\n",
    "plt.figure(figsize=(10, 3))\n",
    "sns.barplot(data=results_df, x='F1 Score', y='Model', palette='viridis')\n",
    "plt.title('📊 F1-метрики моделей', fontsize=14)\n",
    "plt.xlabel('F1 Score')\n",
    "plt.ylabel('Model')\n",
    "plt.xlim(0.65, 0.80)\n",
    "plt.grid(axis='x', linestyle='--', alpha=0.6)\n",
    "plt.tight_layout()\n",
    "plt.show()"
   ]
  },
  {
   "cell_type": "markdown",
   "metadata": {},
   "source": [
    "## Расширение проекта: использование BERT и интерпретация модели"
   ]
  },
  {
   "cell_type": "markdown",
   "metadata": {},
   "source": [
    "В предыдущих этапах проекта мы реализовали задачу классификации токсичных комментариев с помощью классических методов обработки текста — векторизации TF-IDF и моделей машинного обучения, таких как Logistic Regression, RidgeClassifier и другие. Мы также применили стекинг, что позволило нам достичь значения F1-метрики выше 0.75 на тестовой выборке.\n",
    "\n",
    "Теперь, чтобы улучшить качество классификации и использовать более современные подходы, мы переходим к работе с эмбеддингами на базе трансформеров (BERT). В этой части проекта:"
   ]
  },
  {
   "cell_type": "markdown",
   "metadata": {},
   "source": [
    "###### Что будет сделано:\n",
    "###### Использование BERT-эмбеддингов\n",
    "- Вместо TF-IDF мы применим модель 'paraphrase-MiniLM-L6-v2' из библиотеки sentence-transformers, чтобы получить семантически богатые векторные представления текста. Это повысит способность модели учитывать контекст слов.\n",
    "\n",
    "###### Обучение модели на эмбеддингах\n",
    "- На полученных эмбеддингах мы обучим Logistic Regression, так как она хорошо масштабируется и быстро обучается даже на BERT-векторах.\n",
    "\n",
    "###### Оценка качества модели\n",
    "- Мы сравним новую модель с предыдущими по метрике F1 и выведем classification_report.\n",
    "\n",
    "###### Облако слов\n",
    "- Построим облака слов отдельно для токсичных и нетоксичных комментариев, чтобы визуально оценить лексические различия.\n",
    "\n",
    "###### Интерпретация модели\n",
    "- Также дополнительно проанализируем важнейшие признаки для модели логистической регрессии на базе TF-IDF, чтобы «заглянуть» внутрь принятия решений модели."
   ]
  },
  {
   "cell_type": "code",
   "execution_count": 22,
   "metadata": {},
   "outputs": [],
   "source": [
    "# --- 0. Сэмплирование подмножества для BERT ---\n",
    "X_train_sampled = X_train.sample(frac=0.2, random_state=42)\n",
    "y_train_sampled = y_train.loc[X_train_sampled.index]\n",
    "\n",
    "# Сброс индексов\n",
    "X_train_sampled = X_train_sampled.reset_index(drop=True)\n",
    "y_train_sampled = y_train_sampled.reset_index(drop=True)\n",
    "X_test = X_test.reset_index(drop=True)\n",
    "y_test = y_test.reset_index(drop=True)"
   ]
  },
  {
   "cell_type": "code",
   "execution_count": 23,
   "metadata": {},
   "outputs": [
    {
     "data": {
      "application/vnd.jupyter.widget-view+json": {
       "model_id": "e1670d607b4e4d0094653536919556c7",
       "version_major": 2,
       "version_minor": 0
      },
      "text/plain": [
       "Batches:   0%|          | 0/797 [00:00<?, ?it/s]"
      ]
     },
     "metadata": {},
     "output_type": "display_data"
    },
    {
     "data": {
      "application/vnd.jupyter.widget-view+json": {
       "model_id": "d6d02397a68a4d1b990a2ee288db8b93",
       "version_major": 2,
       "version_minor": 0
      },
      "text/plain": [
       "Batches:   0%|          | 0/996 [00:00<?, ?it/s]"
      ]
     },
     "metadata": {},
     "output_type": "display_data"
    }
   ],
   "source": [
    "# --- 1. Генерация BERT-эмбеддингов ---\n",
    "bert_model = SentenceTransformer('paraphrase-MiniLM-L6-v2')\n",
    "X_train_embeddings = bert_model.encode(X_train_sampled.tolist(), show_progress_bar=True, batch_size=32)\n",
    "X_test_embeddings = bert_model.encode(X_test.tolist(), show_progress_bar=True, batch_size=32)"
   ]
  },
  {
   "cell_type": "code",
   "execution_count": 24,
   "metadata": {},
   "outputs": [],
   "source": [
    "# --- 2. Снижение размерности ---\n",
    "svd = TruncatedSVD(n_components=200, random_state=42)\n",
    "X_train_reduced = svd.fit_transform(X_train_embeddings)\n",
    "X_test_reduced = svd.transform(X_test_embeddings)"
   ]
  },
  {
   "cell_type": "code",
   "execution_count": 25,
   "metadata": {},
   "outputs": [
    {
     "data": {
      "text/plain": [
       "LogisticRegression(C=0.5, max_iter=1000, random_state=42)"
      ]
     },
     "execution_count": 25,
     "metadata": {},
     "output_type": "execute_result"
    }
   ],
   "source": [
    "# --- 3. Обучение модели с улучшениями ---\n",
    "# Логистическая регрессия с настройкой гиперпараметров (например, C)\n",
    "logreg_bert = LogisticRegression(max_iter=1000, C=0.5, random_state=42)\n",
    "logreg_bert.fit(X_train_reduced, y_train_sampled)"
   ]
  },
  {
   "cell_type": "code",
   "execution_count": 26,
   "metadata": {},
   "outputs": [
    {
     "name": "stdout",
     "output_type": "stream",
     "text": [
      "Classification Report (BERT + LogReg + улучшения):\n",
      "              precision    recall  f1-score   support\n",
      "\n",
      "           0       0.96      0.98      0.97     28645\n",
      "           1       0.77      0.62      0.69      3214\n",
      "\n",
      "    accuracy                           0.94     31859\n",
      "   macro avg       0.87      0.80      0.83     31859\n",
      "weighted avg       0.94      0.94      0.94     31859\n",
      "\n",
      "F1 (токсичный класс, threshold=0.4): 0.6892\n"
     ]
    }
   ],
   "source": [
    "# --- 4. Прогноз и оценка с порогом ---\n",
    "y_proba = logreg_bert.predict_proba(X_test_reduced)[:, 1]\n",
    "threshold = 0.4\n",
    "y_pred_thresh = (y_proba >= threshold).astype(int)\n",
    "\n",
    "print(\"Classification Report (BERT + LogReg + улучшения):\")\n",
    "print(classification_report(y_test, y_pred_thresh))\n",
    "print(f\"F1 (токсичный класс, threshold={threshold}): {f1_score(y_test, y_pred_thresh):.4f}\")"
   ]
  },
  {
   "cell_type": "code",
   "execution_count": 27,
   "metadata": {},
   "outputs": [
    {
     "data": {
      "image/png": "[encoded data removed]",
      "text/plain": [
       "<Figure size 720x360 with 1 Axes>"
      ]
     },
     "metadata": {},
     "output_type": "display_data"
    },
    {
     "data": {
      "image/png": "[encoded data removed]",
      "text/plain": [
       "<Figure size 720x360 with 1 Axes>"
      ]
     },
     "metadata": {},
     "output_type": "display_data"
    }
   ],
   "source": [
    "# --- 5. Визуализация важности слов ---\n",
    "# Функция для подсчета частоты слов\n",
    "def get_word_frequencies(texts, top_n=30):\n",
    "    words = \" \".join(texts).split()\n",
    "    return dict(Counter(words).most_common(top_n))\n",
    "\n",
    "# Подготовка данных\n",
    "toxic_freq = get_word_frequencies(X_train[y_train == 1], top_n=30)\n",
    "nontoxic_freq = get_word_frequencies(X_train[y_train == 0], top_n=30)\n",
    "\n",
    "# Визуализация облака слов через matplotlib с ограничением количества отображаемых слов\n",
    "def plot_wordcloud(freq_dict, title):\n",
    "    words = list(freq_dict.keys())\n",
    "    freq = list(freq_dict.values())\n",
    "    \n",
    "    plt.figure(figsize=(10, 5))\n",
    "    plt.barh(words, freq, color='skyblue')\n",
    "    plt.title(title)\n",
    "    plt.gca().invert_yaxis()\n",
    "    plt.show()\n",
    "\n",
    "# Построение облаков слов для токсичных и нетоксичных комментариев\n",
    "plot_wordcloud(toxic_freq, 'Токсичные комментарии')\n",
    "plot_wordcloud(nontoxic_freq, 'Нетоксичные комментарии')"
   ]
  },
  {
   "cell_type": "code",
   "execution_count": 28,
   "metadata": {},
   "outputs": [
    {
     "name": "stdout",
     "output_type": "stream",
     "text": [
      "\n",
      "Самые важные признаки для токсичных комментариев:\n",
      "fuck: 17.0143\n",
      "idiot: 10.6967\n",
      "shit: 10.3491\n",
      "stupid: 10.0009\n",
      "suck: 8.8364\n",
      "asshole: 8.0632\n",
      "as: 7.9969\n",
      "bullshit: 7.5439\n",
      "bitch: 7.4265\n",
      "dick: 7.1246\n",
      "crap: 6.9508\n",
      "moron: 6.5005\n",
      "cunt: 6.3766\n",
      "faggot: 6.2789\n",
      "hell: 5.5731\n",
      "\n",
      "Самые важные признаки для нетоксичных комментариев:\n",
      "thanks: -3.5459\n",
      "thank: -3.1320\n",
      "article: -2.8742\n",
      "talk: -2.7330\n",
      "please: -2.3589\n",
      "source: -2.2229\n",
      "may: -2.1251\n",
      "section: -2.0963\n",
      "mention: -1.9931\n",
      "list: -1.9085\n",
      "could: -1.8988\n",
      "agree: -1.8107\n",
      "move: -1.8076\n",
      "sorry: -1.7703\n",
      "best: -1.7619\n"
     ]
    }
   ],
   "source": [
    "# --- 6. Важность признаков ---\n",
    "\n",
    "# Применение TF-IDF векторизатора\n",
    "# Увеличение числа признаков (max_features) и использование биграмм\n",
    "tfidf = TfidfVectorizer(max_features=15000, ngram_range=(1, 2))  # Увеличили max_features\n",
    "X_train_tfidf = tfidf.fit_transform(X_train)\n",
    "\n",
    "# Обучение логистической регрессии с настройкой гиперпараметров\n",
    "logreg_tfidf = LogisticRegression(C=0.5, max_iter=1000)\n",
    "logreg_tfidf.fit(X_train_tfidf, y_train)\n",
    "\n",
    "# Получение названий признаков (для старой версии scikit-learn)\n",
    "feature_names = tfidf.get_feature_names()  # Используем get_feature_names_out() для новой версии sklearn\n",
    "\n",
    "# Получение коэффициентов модели\n",
    "coefs = logreg_tfidf.coef_.flatten()\n",
    "\n",
    "# Индексы самых важных признаков для токсичных и нетоксичных комментариев\n",
    "top_toxic_idx = np.argsort(coefs)[-15:][::-1]\n",
    "top_non_toxic_idx = np.argsort(coefs)[:15]\n",
    "\n",
    "# Вывод самых важных признаков\n",
    "print(\"\\nСамые важные признаки для токсичных комментариев:\")\n",
    "for idx in top_toxic_idx:\n",
    "    print(f\"{feature_names[idx]}: {coefs[idx]:.4f}\")\n",
    "\n",
    "print(\"\\nСамые важные признаки для нетоксичных комментариев:\")\n",
    "for idx in top_non_toxic_idx:\n",
    "    print(f\"{feature_names[idx]}: {coefs[idx]:.4f}\")"
   ]
  },
  {
   "cell_type": "markdown",
   "metadata": {},
   "source": [
    "## Отчёт по первой части проекта классификации токсичных комментариев"
   ]
  },
  {
   "cell_type": "markdown",
   "metadata": {},
   "source": [
    "Цель проекта - Разработать модель, которая сможет автоматически определять токсичные комментарии, добавляемые пользователями в интернет-магазине «Викишоп». Такие комментарии должны быть направлены на модерацию. Основной критерий эффективности модели — метрика F1-score ≥ 0.75 на тестовых данных."
   ]
  },
  {
   "cell_type": "markdown",
   "metadata": {},
   "source": [
    "###### Предобработка данных и фичи"
   ]
  },
  {
   "cell_type": "markdown",
   "metadata": {},
   "source": [
    "- Текст комментариев был лемматизирован заранее.  \n",
    "- Для представления текста использован метод TF-IDF (Term Frequency-Inverse Document Frequency): размерность ограничена: max_features=10000 для ускорения обучения, использованы униграммы и биграммы: ngram_range=(1,2).\n",
    "- Данные были разделены на обучающую и тестовую выборки в соотношении 80/20, при этом соблюдён порядок поступления данных (shuffle=False), что соответствует реалистичному сценарию использования."
   ]
  },
  {
   "cell_type": "markdown",
   "metadata": {},
   "source": [
    "###### Обученные модели и их производительность\n",
    "Наилучший результат показал StackingClassifier,  \n",
    "Который объединил силу трёх моделей: LogisticRegression, RidgeClassifier, и LinearSVC.  \n",
    "Он превзошёл базовые модели и достиг требуемого порога F1 > 0.75."
   ]
  },
  {
   "cell_type": "markdown",
   "metadata": {},
   "source": [
    "###### Метрики лучшей модели (StackingClassifier)  \n",
    "- Модель очень точно распознаёт нетоксичные комментарии (0).\n",
    "- Для токсичных комментариев (1) достигнут F1 = 0.77, что соответствует поставленной цели.\n",
    "- Высокое precision (0.88) говорит о том, что ложных срабатываний немного.\n",
    "- Recall (0.69) — есть потенциал для повышения полноты (например, через модели на эмбеддингах или BERT)."
   ]
  },
  {
   "cell_type": "markdown",
   "metadata": {},
   "source": [
    "### Вывод по второй части проекта: расширение с использованием BERT и интерпретация модели"
   ]
  },
  {
   "cell_type": "markdown",
   "metadata": {},
   "source": [
    "Во второй части проекта мы расширили подход к классификации токсичных комментариев, применив современные трансформерные эмбеддинги (BERT). Вместо классической TF-IDF-векторизации использована модель 'paraphrase-MiniLM-L6-v2' из библиотеки sentence-transformers, позволяющая получить семантически насыщенные векторные представления текста."
   ]
  },
  {
   "cell_type": "markdown",
   "metadata": {},
   "source": [
    "###### Основные улучшения:"
   ]
  },
  {
   "cell_type": "markdown",
   "metadata": {},
   "source": [
    "- BERT-эмбеддинги + Logistic Regression показали метрику F1 = 0.689 для токсичных комментариев при пороге 0.4. Это заметное улучшение полноты (recall = 0.62) по сравнению с предыдущими моделями.\n",
    "\n",
    "- За счёт понижения порога классификации удалось увеличить количество распознанных токсичных сообщений, что критически важно в задачах модерации.\n",
    "\n",
    "- Облака слов показали явные различия в лексике токсичных и нетоксичных комментариев, где токсичные содержат агрессивные выражения, а нетоксичные — благодарности и конструктив.\n",
    "\n",
    "- Также была проведена интерпретация признаков на базе TF-IDF: самые весомые слова в классификации логично соответствуют токсичной и нейтральной лексике."
   ]
  },
  {
   "cell_type": "markdown",
   "metadata": {},
   "source": [
    "## Общий вывод по проекту"
   ]
  },
  {
   "cell_type": "markdown",
   "metadata": {},
   "source": [
    "Проект продемонстрировал, как можно поэтапно решать задачу автоматической классификации токсичных комментариев с применением как классических, так и современных методов машинного обучения."
   ]
  },
  {
   "cell_type": "markdown",
   "metadata": {},
   "source": [
    "###### Достижения:"
   ]
  },
  {
   "cell_type": "markdown",
   "metadata": {},
   "source": [
    "- Сначала использованы TF-IDF и стек моделей (StackingClassifier), что позволило достичь F1 = 0.77, превысив целевое значение 0.75.\n",
    "\n",
    "- На втором этапе применены BERT-эмбеддинги, что привело к лучшему пониманию контекста текста, повысило точность и полноту модели.\n",
    "\n",
    "- Проведена интерпретация признаков, что делает модель более прозрачной и объяснимой.\n",
    "\n",
    "- Визуализация данных через облака слов помогла лучше понять различия в лексике классов."
   ]
  },
  {
   "cell_type": "markdown",
   "metadata": {},
   "source": [
    "###### Итог:  \n",
    "Модель достигла целевой метрики F1 > 0.75, обладает высокой точностью в распознавании токсичных комментариев и может быть рекомендована для внедрения в систему модерации платформы «Викишоп»."
   ]
  },
  {
   "cell_type": "markdown",
   "metadata": {},
   "source": [
    "## Чек лист проекта"
   ]
  },
  {
   "cell_type": "markdown",
   "metadata": {},
   "source": [
    "- [x]  Jupyter Notebook открыт\n",
    "- [x]  Весь код выполняется без ошибок\n",
    "- [x]  Ячейки с кодом расположены в порядке исполнения\n",
    "- [x]  Данные загружены и подготовлены\n",
    "- [x]  Модели обучены\n",
    "- [x]  Значение метрики *F1* не меньше 0.75\n",
    "- [x]  Выводы написаны"
   ]
  }
 ],
 "metadata": {
  "ExecuteTimeLog": [
   {
    "duration": 2033,
    "start_time": "2025-04-28T16:03:24.582Z"
   },
   {
    "duration": 4,
    "start_time": "2025-04-28T16:03:46.122Z"
   },
   {
    "duration": 1059,
    "start_time": "2025-04-28T16:06:45.642Z"
   },
   {
    "duration": 4,
    "start_time": "2025-04-28T16:08:17.275Z"
   },
   {
    "duration": 13,
    "start_time": "2025-04-28T16:08:34.095Z"
   },
   {
    "duration": 12,
    "start_time": "2025-04-28T16:08:53.144Z"
   },
   {
    "duration": 4,
    "start_time": "2025-04-28T16:09:07.808Z"
   },
   {
    "duration": 11,
    "start_time": "2025-04-28T16:09:10.506Z"
   },
   {
    "duration": 4,
    "start_time": "2025-04-28T16:09:16.810Z"
   },
   {
    "duration": 12,
    "start_time": "2025-04-28T16:09:20.375Z"
   },
   {
    "duration": 3,
    "start_time": "2025-04-28T16:09:33.441Z"
   },
   {
    "duration": 12,
    "start_time": "2025-04-28T16:09:35.829Z"
   },
   {
    "duration": 1015,
    "start_time": "2025-04-28T16:15:46.503Z"
   },
   {
    "duration": 11,
    "start_time": "2025-04-28T16:15:49.973Z"
   },
   {
    "duration": 2988,
    "start_time": "2025-04-28T17:09:36.410Z"
   },
   {
    "duration": 2730,
    "start_time": "2025-04-28T17:09:44.066Z"
   },
   {
    "duration": 2719,
    "start_time": "2025-04-28T17:10:00.056Z"
   },
   {
    "duration": 2660,
    "start_time": "2025-04-28T17:10:06.958Z"
   },
   {
    "duration": 34,
    "start_time": "2025-04-28T17:11:44.935Z"
   },
   {
    "duration": 47,
    "start_time": "2025-04-29T16:15:05.883Z"
   },
   {
    "duration": 2868,
    "start_time": "2025-04-29T16:15:22.549Z"
   },
   {
    "duration": 2594,
    "start_time": "2025-04-29T16:15:25.420Z"
   },
   {
    "duration": 1997,
    "start_time": "2025-04-29T16:15:28.016Z"
   },
   {
    "duration": 953,
    "start_time": "2025-04-29T16:15:30.015Z"
   },
   {
    "duration": 13,
    "start_time": "2025-04-29T16:15:30.970Z"
   },
   {
    "duration": 150,
    "start_time": "2025-04-29T16:15:30.984Z"
   },
   {
    "duration": 139,
    "start_time": "2025-04-29T16:15:41.064Z"
   },
   {
    "duration": 339,
    "start_time": "2025-04-29T16:17:45.472Z"
   },
   {
    "duration": 266,
    "start_time": "2025-04-29T16:18:22.488Z"
   },
   {
    "duration": 277,
    "start_time": "2025-04-29T16:18:33.386Z"
   },
   {
    "duration": 83,
    "start_time": "2025-04-29T16:18:44.228Z"
   },
   {
    "duration": 297,
    "start_time": "2025-04-29T16:18:58.275Z"
   },
   {
    "duration": 296,
    "start_time": "2025-04-29T16:22:00.756Z"
   },
   {
    "duration": 17,
    "start_time": "2025-04-29T16:46:50.351Z"
   },
   {
    "duration": 2158,
    "start_time": "2025-04-29T16:47:03.205Z"
   },
   {
    "duration": 4,
    "start_time": "2025-04-29T16:48:17.853Z"
   },
   {
    "duration": 12,
    "start_time": "2025-04-29T16:51:18.379Z"
   },
   {
    "duration": 659,
    "start_time": "2025-04-29T16:52:11.437Z"
   },
   {
    "duration": 15,
    "start_time": "2025-04-29T16:52:22.891Z"
   },
   {
    "duration": 862944,
    "start_time": "2025-04-29T16:52:33.294Z"
   },
   {
    "duration": 3317,
    "start_time": "2025-05-04T13:05:23.970Z"
   },
   {
    "duration": 2741,
    "start_time": "2025-05-04T13:05:27.290Z"
   },
   {
    "duration": 2940,
    "start_time": "2025-05-04T13:05:30.034Z"
   },
   {
    "duration": 1056,
    "start_time": "2025-05-04T13:05:32.976Z"
   },
   {
    "duration": 13,
    "start_time": "2025-05-04T13:05:34.034Z"
   },
   {
    "duration": 378,
    "start_time": "2025-05-04T13:05:34.048Z"
   },
   {
    "duration": 2329,
    "start_time": "2025-05-04T13:05:34.427Z"
   },
   {
    "duration": 4,
    "start_time": "2025-05-04T13:05:36.758Z"
   },
   {
    "duration": 994682,
    "start_time": "2025-05-04T13:05:36.764Z"
   },
   {
    "duration": 9,
    "start_time": "2025-05-04T13:28:22.829Z"
   },
   {
    "duration": 34,
    "start_time": "2025-05-04T13:31:13.877Z"
   },
   {
    "duration": 11,
    "start_time": "2025-05-04T13:31:19.441Z"
   },
   {
    "duration": 19,
    "start_time": "2025-05-04T13:31:20.799Z"
   },
   {
    "duration": 14,
    "start_time": "2025-05-04T13:31:21.810Z"
   },
   {
    "duration": 11,
    "start_time": "2025-05-04T13:31:23.169Z"
   },
   {
    "duration": 11,
    "start_time": "2025-05-04T13:31:26.917Z"
   },
   {
    "duration": 158,
    "start_time": "2025-05-04T13:34:28.596Z"
   },
   {
    "duration": 35,
    "start_time": "2025-05-04T13:35:02.117Z"
   },
   {
    "duration": 28,
    "start_time": "2025-05-04T13:38:27.404Z"
   },
   {
    "duration": 26,
    "start_time": "2025-05-04T13:53:28.752Z"
   },
   {
    "duration": 6185,
    "start_time": "2025-05-04T13:55:25.258Z"
   },
   {
    "duration": 28527,
    "start_time": "2025-05-04T14:05:11.704Z"
   },
   {
    "duration": 4360,
    "start_time": "2025-05-04T14:13:39.429Z"
   },
   {
    "duration": 2955,
    "start_time": "2025-05-04T14:13:56.133Z"
   },
   {
    "duration": 125,
    "start_time": "2025-05-04T14:14:45.596Z"
   },
   {
    "duration": 288,
    "start_time": "2025-05-04T14:14:52.548Z"
   },
   {
    "duration": 4,
    "start_time": "2025-05-04T14:15:31.689Z"
   },
   {
    "duration": 68,
    "start_time": "2025-05-04T14:17:01.481Z"
   },
   {
    "duration": 5,
    "start_time": "2025-05-04T14:17:23.944Z"
   },
   {
    "duration": 33,
    "start_time": "2025-05-04T14:17:23.951Z"
   },
   {
    "duration": 3164,
    "start_time": "2025-05-04T14:17:23.986Z"
   },
   {
    "duration": 2573,
    "start_time": "2025-05-04T14:17:27.153Z"
   },
   {
    "duration": 1167,
    "start_time": "2025-05-04T14:17:29.729Z"
   },
   {
    "duration": 25,
    "start_time": "2025-05-04T14:17:30.898Z"
   },
   {
    "duration": 386,
    "start_time": "2025-05-04T14:17:30.925Z"
   },
   {
    "duration": 2403,
    "start_time": "2025-05-04T14:17:31.318Z"
   },
   {
    "duration": 5,
    "start_time": "2025-05-04T14:17:33.723Z"
   },
   {
    "duration": 1031958,
    "start_time": "2025-05-04T14:17:33.730Z"
   },
   {
    "duration": 44,
    "start_time": "2025-05-04T14:34:45.690Z"
   },
   {
    "duration": 19,
    "start_time": "2025-05-04T14:34:45.736Z"
   },
   {
    "duration": 26150,
    "start_time": "2025-05-04T14:34:45.757Z"
   },
   {
    "duration": 10,
    "start_time": "2025-05-04T14:35:11.914Z"
   },
   {
    "duration": 1082008,
    "start_time": "2025-05-04T14:35:11.926Z"
   },
   {
    "duration": 0,
    "start_time": "2025-05-04T14:53:13.938Z"
   },
   {
    "duration": 6,
    "start_time": "2025-05-04T14:55:04.425Z"
   },
   {
    "duration": 117,
    "start_time": "2025-05-04T14:55:04.433Z"
   },
   {
    "duration": 2940,
    "start_time": "2025-05-04T14:55:04.552Z"
   },
   {
    "duration": 2249,
    "start_time": "2025-05-04T14:55:07.494Z"
   },
   {
    "duration": 1085,
    "start_time": "2025-05-04T14:55:09.746Z"
   },
   {
    "duration": 14,
    "start_time": "2025-05-04T14:55:10.833Z"
   },
   {
    "duration": 416,
    "start_time": "2025-05-04T14:55:10.849Z"
   },
   {
    "duration": 2433,
    "start_time": "2025-05-04T14:55:11.266Z"
   },
   {
    "duration": 20,
    "start_time": "2025-05-04T14:55:13.701Z"
   },
   {
    "duration": 1050559,
    "start_time": "2025-05-04T14:55:13.729Z"
   },
   {
    "duration": 54,
    "start_time": "2025-05-04T15:12:44.290Z"
   },
   {
    "duration": 20,
    "start_time": "2025-05-04T15:12:44.346Z"
   },
   {
    "duration": 3,
    "start_time": "2025-05-04T15:12:44.369Z"
   },
   {
    "duration": 12,
    "start_time": "2025-05-04T15:12:44.373Z"
   },
   {
    "duration": 2656447,
    "start_time": "2025-05-04T15:12:44.387Z"
   },
   {
    "duration": 0,
    "start_time": "2025-05-04T15:57:00.838Z"
   },
   {
    "duration": 333278,
    "start_time": "2025-05-04T15:58:31.124Z"
   },
   {
    "duration": 4,
    "start_time": "2025-05-04T16:53:08.753Z"
   },
   {
    "duration": 4,
    "start_time": "2025-05-04T16:53:13.607Z"
   },
   {
    "duration": 81,
    "start_time": "2025-05-04T16:53:27.041Z"
   },
   {
    "duration": 3281,
    "start_time": "2025-05-04T16:53:52.184Z"
   },
   {
    "duration": 129,
    "start_time": "2025-05-04T16:54:09.545Z"
   },
   {
    "duration": 13,
    "start_time": "2025-05-04T16:54:20.864Z"
   },
   {
    "duration": 5,
    "start_time": "2025-05-04T16:56:10.069Z"
   },
   {
    "duration": 12,
    "start_time": "2025-05-04T16:56:10.077Z"
   },
   {
    "duration": 3204,
    "start_time": "2025-05-04T16:56:10.091Z"
   },
   {
    "duration": 2431,
    "start_time": "2025-05-04T16:56:13.298Z"
   },
   {
    "duration": 1106,
    "start_time": "2025-05-04T16:56:15.732Z"
   },
   {
    "duration": 13,
    "start_time": "2025-05-04T16:56:16.841Z"
   },
   {
    "duration": 335,
    "start_time": "2025-05-04T16:56:16.856Z"
   },
   {
    "duration": 2508,
    "start_time": "2025-05-04T16:56:17.193Z"
   },
   {
    "duration": 11,
    "start_time": "2025-05-04T16:56:19.705Z"
   },
   {
    "duration": 1056826,
    "start_time": "2025-05-04T16:56:19.719Z"
   },
   {
    "duration": 37,
    "start_time": "2025-05-04T17:13:56.546Z"
   },
   {
    "duration": 50,
    "start_time": "2025-05-04T17:13:56.585Z"
   },
   {
    "duration": 3,
    "start_time": "2025-05-04T17:13:56.637Z"
   },
   {
    "duration": 10,
    "start_time": "2025-05-04T17:13:56.642Z"
   },
   {
    "duration": 499679,
    "start_time": "2025-05-04T17:13:56.654Z"
   },
   {
    "duration": 5,
    "start_time": "2025-05-04T17:22:16.335Z"
   },
   {
    "duration": 10,
    "start_time": "2025-05-04T17:22:16.341Z"
   },
   {
    "duration": 0,
    "start_time": "2025-05-04T17:43:23.968Z"
   },
   {
    "duration": 0,
    "start_time": "2025-05-04T17:43:23.969Z"
   },
   {
    "duration": 1,
    "start_time": "2025-05-04T17:43:23.970Z"
   },
   {
    "duration": 0,
    "start_time": "2025-05-04T17:43:23.972Z"
   },
   {
    "duration": 0,
    "start_time": "2025-05-04T17:43:23.973Z"
   },
   {
    "duration": 0,
    "start_time": "2025-05-04T17:43:23.974Z"
   },
   {
    "duration": 5,
    "start_time": "2025-05-04T17:49:12.932Z"
   },
   {
    "duration": 5,
    "start_time": "2025-05-04T17:49:12.939Z"
   },
   {
    "duration": 2889,
    "start_time": "2025-05-04T17:49:12.946Z"
   },
   {
    "duration": 2351,
    "start_time": "2025-05-04T17:49:15.838Z"
   },
   {
    "duration": 1162,
    "start_time": "2025-05-04T17:49:18.191Z"
   },
   {
    "duration": 13,
    "start_time": "2025-05-04T17:49:19.355Z"
   },
   {
    "duration": 324,
    "start_time": "2025-05-04T17:49:19.369Z"
   },
   {
    "duration": 2627,
    "start_time": "2025-05-04T17:49:19.695Z"
   },
   {
    "duration": 5,
    "start_time": "2025-05-04T17:49:22.332Z"
   },
   {
    "duration": 1101100,
    "start_time": "2025-05-04T17:49:22.339Z"
   },
   {
    "duration": 36,
    "start_time": "2025-05-04T18:07:43.440Z"
   },
   {
    "duration": 36,
    "start_time": "2025-05-04T18:07:43.477Z"
   },
   {
    "duration": 6,
    "start_time": "2025-05-04T18:07:43.514Z"
   },
   {
    "duration": 8,
    "start_time": "2025-05-04T18:07:43.533Z"
   },
   {
    "duration": 2260497,
    "start_time": "2025-05-04T18:07:43.543Z"
   },
   {
    "duration": 8329920,
    "start_time": "2025-05-04T18:45:24.042Z"
   },
   {
    "duration": 5,
    "start_time": "2025-05-04T21:04:13.965Z"
   },
   {
    "duration": 1765653,
    "start_time": "2025-05-04T21:04:13.972Z"
   },
   {
    "duration": 3,
    "start_time": "2025-05-04T21:33:39.627Z"
   },
   {
    "duration": 33,
    "start_time": "2025-05-04T21:33:39.632Z"
   },
   {
    "duration": 6,
    "start_time": "2025-05-04T21:33:39.667Z"
   },
   {
    "duration": 30,
    "start_time": "2025-05-04T21:33:39.674Z"
   },
   {
    "duration": 1374,
    "start_time": "2025-05-05T13:38:49.073Z"
   },
   {
    "duration": 12,
    "start_time": "2025-05-05T13:39:18.356Z"
   },
   {
    "duration": 5,
    "start_time": "2025-05-05T13:39:27.516Z"
   },
   {
    "duration": 65,
    "start_time": "2025-05-05T13:39:27.524Z"
   },
   {
    "duration": 4614,
    "start_time": "2025-05-05T13:39:27.591Z"
   },
   {
    "duration": 2735,
    "start_time": "2025-05-05T13:39:32.207Z"
   },
   {
    "duration": 1042,
    "start_time": "2025-05-05T13:39:34.945Z"
   },
   {
    "duration": 24,
    "start_time": "2025-05-05T13:39:35.989Z"
   },
   {
    "duration": 379,
    "start_time": "2025-05-05T13:39:36.015Z"
   },
   {
    "duration": 2395,
    "start_time": "2025-05-05T13:39:36.396Z"
   },
   {
    "duration": 3,
    "start_time": "2025-05-05T13:39:38.793Z"
   },
   {
    "duration": 916675,
    "start_time": "2025-05-05T13:39:38.804Z"
   },
   {
    "duration": 42,
    "start_time": "2025-05-05T13:54:55.481Z"
   },
   {
    "duration": 17,
    "start_time": "2025-05-05T13:54:55.525Z"
   },
   {
    "duration": 25,
    "start_time": "2025-05-05T13:54:55.544Z"
   },
   {
    "duration": 35,
    "start_time": "2025-05-05T13:54:55.573Z"
   },
   {
    "duration": 1920695,
    "start_time": "2025-05-05T13:54:55.610Z"
   },
   {
    "duration": 1237899,
    "start_time": "2025-05-05T14:26:56.306Z"
   },
   {
    "duration": 4,
    "start_time": "2025-05-05T14:47:34.207Z"
   },
   {
    "duration": 721932,
    "start_time": "2025-05-05T14:47:34.212Z"
   },
   {
    "duration": 174274,
    "start_time": "2025-05-05T14:59:36.146Z"
   },
   {
    "duration": 2,
    "start_time": "2025-05-05T15:02:30.422Z"
   },
   {
    "duration": 50,
    "start_time": "2025-05-05T15:02:30.426Z"
   },
   {
    "duration": 80,
    "start_time": "2025-05-05T15:02:30.478Z"
   },
   {
    "duration": 69,
    "start_time": "2025-05-05T15:02:30.560Z"
   },
   {
    "duration": 201,
    "start_time": "2025-05-05T15:04:52.978Z"
   },
   {
    "duration": 130184,
    "start_time": "2025-05-05T15:05:28.545Z"
   },
   {
    "duration": 33,
    "start_time": "2025-05-05T15:11:31.217Z"
   },
   {
    "duration": 4,
    "start_time": "2025-05-05T15:13:49.298Z"
   },
   {
    "duration": 6,
    "start_time": "2025-05-05T15:13:49.304Z"
   },
   {
    "duration": 2731,
    "start_time": "2025-05-05T15:13:49.312Z"
   },
   {
    "duration": 2258,
    "start_time": "2025-05-05T15:13:52.046Z"
   },
   {
    "duration": 1013,
    "start_time": "2025-05-05T15:13:54.307Z"
   },
   {
    "duration": 14,
    "start_time": "2025-05-05T15:13:55.322Z"
   },
   {
    "duration": 330,
    "start_time": "2025-05-05T15:13:55.339Z"
   },
   {
    "duration": 2209,
    "start_time": "2025-05-05T15:13:55.671Z"
   },
   {
    "duration": 4,
    "start_time": "2025-05-05T15:13:57.882Z"
   },
   {
    "duration": 912180,
    "start_time": "2025-05-05T15:13:57.887Z"
   },
   {
    "duration": 48,
    "start_time": "2025-05-05T15:29:10.069Z"
   },
   {
    "duration": 18,
    "start_time": "2025-05-05T15:29:10.118Z"
   },
   {
    "duration": 3,
    "start_time": "2025-05-05T15:29:10.137Z"
   },
   {
    "duration": 18,
    "start_time": "2025-05-05T15:29:10.142Z"
   },
   {
    "duration": 1041240,
    "start_time": "2025-05-05T15:29:10.162Z"
   },
   {
    "duration": 0,
    "start_time": "2025-05-05T15:46:31.404Z"
   },
   {
    "duration": 0,
    "start_time": "2025-05-05T15:46:31.405Z"
   },
   {
    "duration": 0,
    "start_time": "2025-05-05T15:46:31.406Z"
   },
   {
    "duration": 0,
    "start_time": "2025-05-05T15:46:31.407Z"
   },
   {
    "duration": 0,
    "start_time": "2025-05-05T15:46:31.409Z"
   },
   {
    "duration": 0,
    "start_time": "2025-05-05T15:46:31.410Z"
   },
   {
    "duration": 0,
    "start_time": "2025-05-05T15:46:31.411Z"
   },
   {
    "duration": 0,
    "start_time": "2025-05-05T15:46:31.413Z"
   },
   {
    "duration": 0,
    "start_time": "2025-05-05T15:46:31.414Z"
   },
   {
    "duration": 0,
    "start_time": "2025-05-05T15:46:31.415Z"
   },
   {
    "duration": 9,
    "start_time": "2025-05-05T15:47:26.597Z"
   },
   {
    "duration": 11,
    "start_time": "2025-05-05T15:50:32.126Z"
   },
   {
    "duration": 4,
    "start_time": "2025-05-05T15:51:02.304Z"
   },
   {
    "duration": 61,
    "start_time": "2025-05-05T15:51:02.310Z"
   },
   {
    "duration": 2788,
    "start_time": "2025-05-05T15:51:02.373Z"
   },
   {
    "duration": 2033,
    "start_time": "2025-05-05T15:51:05.164Z"
   },
   {
    "duration": 984,
    "start_time": "2025-05-05T15:51:07.199Z"
   },
   {
    "duration": 21,
    "start_time": "2025-05-05T15:51:08.185Z"
   },
   {
    "duration": 329,
    "start_time": "2025-05-05T15:51:08.208Z"
   },
   {
    "duration": 2206,
    "start_time": "2025-05-05T15:51:08.539Z"
   },
   {
    "duration": 3,
    "start_time": "2025-05-05T15:51:10.748Z"
   },
   {
    "duration": 907034,
    "start_time": "2025-05-05T15:51:10.753Z"
   },
   {
    "duration": 46,
    "start_time": "2025-05-05T16:06:17.788Z"
   },
   {
    "duration": 19,
    "start_time": "2025-05-05T16:06:17.835Z"
   },
   {
    "duration": 7,
    "start_time": "2025-05-05T16:06:17.855Z"
   },
   {
    "duration": 27221,
    "start_time": "2025-05-05T16:06:17.863Z"
   },
   {
    "duration": 118160,
    "start_time": "2025-05-05T16:06:45.086Z"
   },
   {
    "duration": 4,
    "start_time": "2025-05-05T16:08:43.248Z"
   },
   {
    "duration": 8,
    "start_time": "2025-05-05T16:13:45.877Z"
   },
   {
    "duration": 76759,
    "start_time": "2025-05-05T16:16:02.817Z"
   },
   {
    "duration": 4,
    "start_time": "2025-05-05T16:40:01.261Z"
   },
   {
    "duration": 112874,
    "start_time": "2025-05-05T16:40:04.232Z"
   },
   {
    "duration": 3,
    "start_time": "2025-05-05T16:42:05.349Z"
   },
   {
    "duration": 230,
    "start_time": "2025-05-05T16:42:13.207Z"
   },
   {
    "duration": 9,
    "start_time": "2025-05-05T16:54:43.554Z"
   },
   {
    "duration": 47,
    "start_time": "2025-05-05T16:56:43.416Z"
   },
   {
    "duration": 331,
    "start_time": "2025-05-05T16:56:53.714Z"
   },
   {
    "duration": 336,
    "start_time": "2025-05-05T16:58:34.324Z"
   },
   {
    "duration": 671,
    "start_time": "2025-05-05T16:58:40.836Z"
   },
   {
    "duration": 345,
    "start_time": "2025-05-05T16:58:48.938Z"
   },
   {
    "duration": 2695,
    "start_time": "2025-05-05T17:13:49.133Z"
   },
   {
    "duration": 2115,
    "start_time": "2025-05-05T17:13:51.830Z"
   },
   {
    "duration": 1020,
    "start_time": "2025-05-05T17:13:53.947Z"
   },
   {
    "duration": 17,
    "start_time": "2025-05-05T17:13:54.970Z"
   },
   {
    "duration": 319,
    "start_time": "2025-05-05T17:13:54.989Z"
   },
   {
    "duration": 2222,
    "start_time": "2025-05-05T17:13:55.310Z"
   },
   {
    "duration": 4,
    "start_time": "2025-05-05T17:13:57.534Z"
   },
   {
    "duration": 916369,
    "start_time": "2025-05-05T17:13:57.539Z"
   },
   {
    "duration": 37,
    "start_time": "2025-05-05T17:29:13.910Z"
   },
   {
    "duration": 19,
    "start_time": "2025-05-05T17:29:13.949Z"
   },
   {
    "duration": 25215,
    "start_time": "2025-05-05T17:29:13.970Z"
   },
   {
    "duration": 89282,
    "start_time": "2025-05-05T17:29:39.186Z"
   },
   {
    "duration": 4,
    "start_time": "2025-05-05T17:31:08.470Z"
   },
   {
    "duration": 113043,
    "start_time": "2025-05-05T17:31:08.476Z"
   },
   {
    "duration": 85,
    "start_time": "2025-05-05T17:33:01.521Z"
   },
   {
    "duration": 239,
    "start_time": "2025-05-05T17:33:01.608Z"
   },
   {
    "duration": 74,
    "start_time": "2025-05-05T17:33:01.849Z"
   },
   {
    "duration": 359,
    "start_time": "2025-05-05T17:33:01.926Z"
   },
   {
    "duration": 3926,
    "start_time": "2025-05-06T16:13:35.426Z"
   },
   {
    "duration": 2781,
    "start_time": "2025-05-06T16:13:39.354Z"
   },
   {
    "duration": 932,
    "start_time": "2025-05-06T16:13:42.137Z"
   },
   {
    "duration": 12,
    "start_time": "2025-05-06T16:13:43.071Z"
   },
   {
    "duration": 355,
    "start_time": "2025-05-06T16:13:43.085Z"
   },
   {
    "duration": 1984,
    "start_time": "2025-05-06T16:13:43.442Z"
   },
   {
    "duration": 8,
    "start_time": "2025-05-06T16:13:45.428Z"
   },
   {
    "duration": 831990,
    "start_time": "2025-05-06T16:13:45.437Z"
   },
   {
    "duration": 35,
    "start_time": "2025-05-06T16:27:37.435Z"
   },
   {
    "duration": 18,
    "start_time": "2025-05-06T16:27:37.472Z"
   },
   {
    "duration": 23087,
    "start_time": "2025-05-06T16:27:37.492Z"
   },
   {
    "duration": 86431,
    "start_time": "2025-05-06T16:28:00.581Z"
   },
   {
    "duration": 3,
    "start_time": "2025-05-06T16:29:27.014Z"
   },
   {
    "duration": 108826,
    "start_time": "2025-05-06T16:29:27.019Z"
   },
   {
    "duration": 3,
    "start_time": "2025-05-06T16:31:15.937Z"
   },
   {
    "duration": 225,
    "start_time": "2025-05-06T16:31:15.942Z"
   },
   {
    "duration": 44,
    "start_time": "2025-05-06T16:31:16.169Z"
   },
   {
    "duration": 314,
    "start_time": "2025-05-06T16:31:16.215Z"
   },
   {
    "duration": 163,
    "start_time": "2025-05-06T17:29:00.019Z"
   },
   {
    "duration": 3439,
    "start_time": "2025-05-06T17:29:31.557Z"
   },
   {
    "duration": 2717,
    "start_time": "2025-05-06T17:29:40.706Z"
   },
   {
    "duration": 40,
    "start_time": "2025-05-06T17:29:45.741Z"
   },
   {
    "duration": 1774,
    "start_time": "2025-05-06T17:30:08.621Z"
   },
   {
    "duration": 2700,
    "start_time": "2025-05-06T17:30:20.477Z"
   },
   {
    "duration": 25,
    "start_time": "2025-05-06T17:34:57.684Z"
   },
   {
    "duration": 0,
    "start_time": "2025-05-06T17:34:57.711Z"
   },
   {
    "duration": 17098,
    "start_time": "2025-05-06T17:35:02.133Z"
   },
   {
    "duration": 22,
    "start_time": "2025-05-06T17:35:31.385Z"
   },
   {
    "duration": 1742,
    "start_time": "2025-05-06T17:35:53.333Z"
   },
   {
    "duration": 17089,
    "start_time": "2025-05-06T17:42:26.565Z"
   },
   {
    "duration": 35,
    "start_time": "2025-05-06T17:42:47.434Z"
   },
   {
    "duration": 15,
    "start_time": "2025-05-06T17:42:51.989Z"
   },
   {
    "duration": 18,
    "start_time": "2025-05-06T17:43:50.090Z"
   },
   {
    "duration": 10,
    "start_time": "2025-05-06T17:44:04.617Z"
   },
   {
    "duration": 12,
    "start_time": "2025-05-06T17:44:17.714Z"
   },
   {
    "duration": 13,
    "start_time": "2025-05-06T17:44:20.889Z"
   },
   {
    "duration": 2591,
    "start_time": "2025-05-06T17:44:22.807Z"
   },
   {
    "duration": 3012,
    "start_time": "2025-05-06T17:44:42.580Z"
   },
   {
    "duration": 2883,
    "start_time": "2025-05-06T17:44:45.594Z"
   },
   {
    "duration": 18037,
    "start_time": "2025-05-06T17:44:48.479Z"
   },
   {
    "duration": 2101,
    "start_time": "2025-05-06T17:45:06.520Z"
   },
   {
    "duration": 0,
    "start_time": "2025-05-06T17:45:08.622Z"
   },
   {
    "duration": 0,
    "start_time": "2025-05-06T17:45:08.624Z"
   },
   {
    "duration": 0,
    "start_time": "2025-05-06T17:45:08.625Z"
   },
   {
    "duration": 0,
    "start_time": "2025-05-06T17:45:08.626Z"
   },
   {
    "duration": 0,
    "start_time": "2025-05-06T17:45:08.627Z"
   },
   {
    "duration": 0,
    "start_time": "2025-05-06T17:45:08.641Z"
   },
   {
    "duration": 0,
    "start_time": "2025-05-06T17:45:08.645Z"
   },
   {
    "duration": 0,
    "start_time": "2025-05-06T17:45:08.651Z"
   },
   {
    "duration": 0,
    "start_time": "2025-05-06T17:45:08.657Z"
   },
   {
    "duration": 0,
    "start_time": "2025-05-06T17:45:08.661Z"
   },
   {
    "duration": 0,
    "start_time": "2025-05-06T17:45:08.662Z"
   },
   {
    "duration": 0,
    "start_time": "2025-05-06T17:45:08.665Z"
   },
   {
    "duration": 0,
    "start_time": "2025-05-06T17:45:08.669Z"
   },
   {
    "duration": 0,
    "start_time": "2025-05-06T17:45:08.670Z"
   },
   {
    "duration": 0,
    "start_time": "2025-05-06T17:45:08.671Z"
   },
   {
    "duration": 0,
    "start_time": "2025-05-06T17:45:08.673Z"
   },
   {
    "duration": 0,
    "start_time": "2025-05-06T17:45:08.674Z"
   },
   {
    "duration": 0,
    "start_time": "2025-05-06T17:45:08.675Z"
   },
   {
    "duration": 0,
    "start_time": "2025-05-06T17:45:08.676Z"
   },
   {
    "duration": 0,
    "start_time": "2025-05-06T17:45:08.677Z"
   },
   {
    "duration": 0,
    "start_time": "2025-05-06T17:45:08.679Z"
   },
   {
    "duration": 18814,
    "start_time": "2025-05-06T17:46:36.579Z"
   },
   {
    "duration": 19,
    "start_time": "2025-05-06T17:46:59.398Z"
   },
   {
    "duration": 18303,
    "start_time": "2025-05-06T17:47:03.685Z"
   },
   {
    "duration": 19,
    "start_time": "2025-05-06T17:47:26.870Z"
   },
   {
    "duration": 3118,
    "start_time": "2025-05-06T17:47:35.633Z"
   },
   {
    "duration": 2952,
    "start_time": "2025-05-06T17:47:38.754Z"
   },
   {
    "duration": 18738,
    "start_time": "2025-05-06T17:47:41.708Z"
   },
   {
    "duration": 18026,
    "start_time": "2025-05-06T17:48:00.455Z"
   },
   {
    "duration": 1867,
    "start_time": "2025-05-06T17:48:18.483Z"
   },
   {
    "duration": 0,
    "start_time": "2025-05-06T17:48:20.352Z"
   },
   {
    "duration": 0,
    "start_time": "2025-05-06T17:48:20.354Z"
   },
   {
    "duration": 0,
    "start_time": "2025-05-06T17:48:20.355Z"
   },
   {
    "duration": 0,
    "start_time": "2025-05-06T17:48:20.356Z"
   },
   {
    "duration": 0,
    "start_time": "2025-05-06T17:48:20.357Z"
   },
   {
    "duration": 0,
    "start_time": "2025-05-06T17:48:20.358Z"
   },
   {
    "duration": 0,
    "start_time": "2025-05-06T17:48:20.359Z"
   },
   {
    "duration": 0,
    "start_time": "2025-05-06T17:48:20.360Z"
   },
   {
    "duration": 0,
    "start_time": "2025-05-06T17:48:20.361Z"
   },
   {
    "duration": 0,
    "start_time": "2025-05-06T17:48:20.362Z"
   },
   {
    "duration": 0,
    "start_time": "2025-05-06T17:48:20.363Z"
   },
   {
    "duration": 0,
    "start_time": "2025-05-06T17:48:20.364Z"
   },
   {
    "duration": 0,
    "start_time": "2025-05-06T17:48:20.365Z"
   },
   {
    "duration": 0,
    "start_time": "2025-05-06T17:48:20.366Z"
   },
   {
    "duration": 0,
    "start_time": "2025-05-06T17:48:20.368Z"
   },
   {
    "duration": 0,
    "start_time": "2025-05-06T17:48:20.369Z"
   },
   {
    "duration": 0,
    "start_time": "2025-05-06T17:48:20.370Z"
   },
   {
    "duration": 0,
    "start_time": "2025-05-06T17:48:20.370Z"
   },
   {
    "duration": 0,
    "start_time": "2025-05-06T17:48:20.371Z"
   },
   {
    "duration": 0,
    "start_time": "2025-05-06T17:48:20.372Z"
   },
   {
    "duration": 0,
    "start_time": "2025-05-06T17:48:20.373Z"
   },
   {
    "duration": 40508,
    "start_time": "2025-05-06T17:49:55.316Z"
   },
   {
    "duration": 12599,
    "start_time": "2025-05-06T17:50:46.685Z"
   },
   {
    "duration": 10751,
    "start_time": "2025-05-06T17:51:02.376Z"
   },
   {
    "duration": 3124,
    "start_time": "2025-05-06T17:51:43.956Z"
   },
   {
    "duration": 3101,
    "start_time": "2025-05-06T17:51:47.083Z"
   },
   {
    "duration": 6878,
    "start_time": "2025-05-06T17:51:50.186Z"
   },
   {
    "duration": 3043,
    "start_time": "2025-05-06T17:51:57.068Z"
   },
   {
    "duration": 10039,
    "start_time": "2025-05-06T17:52:00.113Z"
   },
   {
    "duration": 933,
    "start_time": "2025-05-06T17:52:10.153Z"
   },
   {
    "duration": 14,
    "start_time": "2025-05-06T17:52:11.088Z"
   },
   {
    "duration": 308,
    "start_time": "2025-05-06T17:52:11.104Z"
   },
   {
    "duration": 2253,
    "start_time": "2025-05-06T17:52:11.414Z"
   },
   {
    "duration": 4,
    "start_time": "2025-05-06T17:52:13.669Z"
   },
   {
    "duration": 904341,
    "start_time": "2025-05-06T17:52:13.674Z"
   },
   {
    "duration": 50,
    "start_time": "2025-05-06T18:07:18.016Z"
   },
   {
    "duration": 17,
    "start_time": "2025-05-06T18:07:18.067Z"
   },
   {
    "duration": 23161,
    "start_time": "2025-05-06T18:07:18.086Z"
   },
   {
    "duration": 77707,
    "start_time": "2025-05-06T18:07:41.249Z"
   },
   {
    "duration": 3,
    "start_time": "2025-05-06T18:08:58.958Z"
   },
   {
    "duration": 99181,
    "start_time": "2025-05-06T18:08:58.963Z"
   },
   {
    "duration": 4,
    "start_time": "2025-05-06T18:10:38.146Z"
   },
   {
    "duration": 309,
    "start_time": "2025-05-06T18:10:38.152Z"
   },
   {
    "duration": 27,
    "start_time": "2025-05-06T18:10:38.463Z"
   },
   {
    "duration": 326,
    "start_time": "2025-05-06T18:10:38.491Z"
   },
   {
    "duration": 51,
    "start_time": "2025-05-08T04:29:20.797Z"
   },
   {
    "duration": 7,
    "start_time": "2025-05-08T04:29:23.036Z"
   },
   {
    "duration": 7,
    "start_time": "2025-05-08T04:29:25.077Z"
   },
   {
    "duration": 6,
    "start_time": "2025-05-08T04:29:26.922Z"
   },
   {
    "duration": 8,
    "start_time": "2025-05-08T04:29:28.488Z"
   },
   {
    "duration": 8,
    "start_time": "2025-05-08T04:29:30.898Z"
   },
   {
    "duration": 3966,
    "start_time": "2025-05-08T04:29:45.422Z"
   },
   {
    "duration": 3211,
    "start_time": "2025-05-08T04:29:49.391Z"
   },
   {
    "duration": 58862,
    "start_time": "2025-05-08T04:29:52.604Z"
   },
   {
    "duration": 18974,
    "start_time": "2025-05-08T04:30:51.468Z"
   },
   {
    "duration": 10251,
    "start_time": "2025-05-08T04:31:10.445Z"
   },
   {
    "duration": 920,
    "start_time": "2025-05-08T04:31:20.697Z"
   },
   {
    "duration": 1230,
    "start_time": "2025-05-08T04:31:21.618Z"
   },
   {
    "duration": 5795,
    "start_time": "2025-05-08T04:31:22.850Z"
   },
   {
    "duration": 2076,
    "start_time": "2025-05-08T04:31:28.647Z"
   },
   {
    "duration": 9,
    "start_time": "2025-05-08T04:31:30.727Z"
   },
   {
    "duration": 855199,
    "start_time": "2025-05-08T04:31:30.738Z"
   },
   {
    "duration": 31,
    "start_time": "2025-05-08T04:45:45.938Z"
   },
   {
    "duration": 15,
    "start_time": "2025-05-08T04:45:45.970Z"
   },
   {
    "duration": 22695,
    "start_time": "2025-05-08T04:45:45.987Z"
   },
   {
    "duration": 81507,
    "start_time": "2025-05-08T04:46:08.684Z"
   },
   {
    "duration": 4,
    "start_time": "2025-05-08T04:47:30.192Z"
   },
   {
    "duration": 109340,
    "start_time": "2025-05-08T04:47:30.198Z"
   },
   {
    "duration": 94,
    "start_time": "2025-05-08T04:49:19.542Z"
   },
   {
    "duration": 227,
    "start_time": "2025-05-08T04:49:19.638Z"
   },
   {
    "duration": 25,
    "start_time": "2025-05-08T04:49:19.867Z"
   },
   {
    "duration": 318,
    "start_time": "2025-05-08T04:49:19.894Z"
   },
   {
    "duration": 34,
    "start_time": "2025-05-08T04:49:20.214Z"
   },
   {
    "duration": 1299710,
    "start_time": "2025-05-08T04:49:20.250Z"
   },
   {
    "duration": 10473,
    "start_time": "2025-05-08T05:10:59.964Z"
   },
   {
    "duration": 336,
    "start_time": "2025-05-08T05:11:10.439Z"
   },
   {
    "duration": 2959,
    "start_time": "2025-05-08T05:11:10.777Z"
   },
   {
    "duration": 0,
    "start_time": "2025-05-08T05:11:13.738Z"
   },
   {
    "duration": 13,
    "start_time": "2025-05-08T05:19:36.484Z"
   },
   {
    "duration": 2285,
    "start_time": "2025-05-08T05:20:13.453Z"
   },
   {
    "duration": 2317,
    "start_time": "2025-05-08T05:21:39.390Z"
   },
   {
    "duration": 27,
    "start_time": "2025-05-08T05:22:19.129Z"
   },
   {
    "duration": 28,
    "start_time": "2025-05-08T05:22:46.044Z"
   },
   {
    "duration": 2266,
    "start_time": "2025-05-08T05:23:32.211Z"
   },
   {
    "duration": 2327,
    "start_time": "2025-05-08T05:24:36.858Z"
   },
   {
    "duration": 2291,
    "start_time": "2025-05-08T05:25:40.858Z"
   },
   {
    "duration": 3050,
    "start_time": "2025-05-08T05:31:08.963Z"
   },
   {
    "duration": 2954,
    "start_time": "2025-05-08T05:31:12.015Z"
   },
   {
    "duration": 6110,
    "start_time": "2025-05-08T05:31:14.971Z"
   },
   {
    "duration": 2986,
    "start_time": "2025-05-08T05:31:21.084Z"
   },
   {
    "duration": 16477,
    "start_time": "2025-05-08T05:31:24.072Z"
   },
   {
    "duration": 925,
    "start_time": "2025-05-08T05:31:40.551Z"
   },
   {
    "duration": 13,
    "start_time": "2025-05-08T05:31:41.477Z"
   },
   {
    "duration": 321,
    "start_time": "2025-05-08T05:31:41.491Z"
   },
   {
    "duration": 2052,
    "start_time": "2025-05-08T05:31:41.814Z"
   },
   {
    "duration": 3,
    "start_time": "2025-05-08T05:31:43.870Z"
   },
   {
    "duration": 861248,
    "start_time": "2025-05-08T05:31:43.875Z"
   },
   {
    "duration": 41,
    "start_time": "2025-05-08T05:46:05.125Z"
   },
   {
    "duration": 17,
    "start_time": "2025-05-08T05:46:05.168Z"
   },
   {
    "duration": 22437,
    "start_time": "2025-05-08T05:46:05.187Z"
   },
   {
    "duration": 81795,
    "start_time": "2025-05-08T05:46:27.626Z"
   },
   {
    "duration": 3,
    "start_time": "2025-05-08T05:47:49.423Z"
   },
   {
    "duration": 108611,
    "start_time": "2025-05-08T05:47:49.428Z"
   },
   {
    "duration": 5,
    "start_time": "2025-05-08T05:49:38.042Z"
   },
   {
    "duration": 311,
    "start_time": "2025-05-08T05:49:38.049Z"
   },
   {
    "duration": 27,
    "start_time": "2025-05-08T05:49:38.362Z"
   },
   {
    "duration": 325,
    "start_time": "2025-05-08T05:49:38.390Z"
   },
   {
    "duration": 32,
    "start_time": "2025-05-08T05:49:38.717Z"
   },
   {
    "duration": 1258659,
    "start_time": "2025-05-08T05:49:38.750Z"
   },
   {
    "duration": 9830,
    "start_time": "2025-05-08T06:10:37.412Z"
   },
   {
    "duration": 404,
    "start_time": "2025-05-08T06:10:47.244Z"
   },
   {
    "duration": 53,
    "start_time": "2025-05-08T08:37:39.186Z"
   },
   {
    "duration": 9,
    "start_time": "2025-05-08T08:37:54.032Z"
   },
   {
    "duration": 3047,
    "start_time": "2025-05-08T08:38:19.812Z"
   },
   {
    "duration": 2906,
    "start_time": "2025-05-08T08:38:22.861Z"
   },
   {
    "duration": 5945,
    "start_time": "2025-05-08T08:38:25.769Z"
   },
   {
    "duration": 2970,
    "start_time": "2025-05-08T08:38:31.716Z"
   },
   {
    "duration": 15276,
    "start_time": "2025-05-08T08:38:34.689Z"
   },
   {
    "duration": 1019,
    "start_time": "2025-05-08T08:38:49.967Z"
   },
   {
    "duration": 14,
    "start_time": "2025-05-08T08:38:50.988Z"
   },
   {
    "duration": 299,
    "start_time": "2025-05-08T08:38:51.004Z"
   },
   {
    "duration": 2072,
    "start_time": "2025-05-08T08:38:51.305Z"
   },
   {
    "duration": 3,
    "start_time": "2025-05-08T08:38:53.379Z"
   },
   {
    "duration": 871635,
    "start_time": "2025-05-08T08:38:53.384Z"
   },
   {
    "duration": 44,
    "start_time": "2025-05-08T08:53:25.021Z"
   },
   {
    "duration": 15,
    "start_time": "2025-05-08T08:53:25.066Z"
   },
   {
    "duration": 21826,
    "start_time": "2025-05-08T08:53:25.084Z"
   },
   {
    "duration": 83283,
    "start_time": "2025-05-08T08:53:46.912Z"
   },
   {
    "duration": 4,
    "start_time": "2025-05-08T08:55:10.197Z"
   },
   {
    "duration": 111637,
    "start_time": "2025-05-08T08:55:10.202Z"
   },
   {
    "duration": 5,
    "start_time": "2025-05-08T08:57:01.841Z"
   },
   {
    "duration": 224,
    "start_time": "2025-05-08T08:57:01.847Z"
   },
   {
    "duration": 26,
    "start_time": "2025-05-08T08:57:02.073Z"
   },
   {
    "duration": 344,
    "start_time": "2025-05-08T08:57:02.101Z"
   },
   {
    "duration": 22,
    "start_time": "2025-05-08T08:57:02.447Z"
   },
   {
    "duration": 1368482,
    "start_time": "2025-05-08T08:57:02.471Z"
   },
   {
    "duration": 9088,
    "start_time": "2025-05-08T09:19:50.956Z"
   },
   {
    "duration": 328,
    "start_time": "2025-05-08T09:20:00.141Z"
   },
   {
    "duration": 52,
    "start_time": "2025-05-08T09:38:20.811Z"
   },
   {
    "duration": 9,
    "start_time": "2025-05-08T09:39:01.154Z"
   },
   {
    "duration": 3,
    "start_time": "2025-05-08T09:48:37.474Z"
   },
   {
    "duration": 3,
    "start_time": "2025-05-08T09:48:43.936Z"
   },
   {
    "duration": 3,
    "start_time": "2025-05-08T09:48:50.270Z"
   },
   {
    "duration": 2,
    "start_time": "2025-05-08T09:48:54.009Z"
   },
   {
    "duration": 2,
    "start_time": "2025-05-08T09:48:58.195Z"
   },
   {
    "duration": 2,
    "start_time": "2025-05-08T09:49:01.247Z"
   },
   {
    "duration": 8,
    "start_time": "2025-05-08T09:49:20.707Z"
   },
   {
    "duration": 8,
    "start_time": "2025-05-08T09:49:32.999Z"
   },
   {
    "duration": 9,
    "start_time": "2025-05-08T09:49:45.081Z"
   },
   {
    "duration": 7,
    "start_time": "2025-05-08T09:49:54.271Z"
   },
   {
    "duration": 7,
    "start_time": "2025-05-08T09:50:07.781Z"
   },
   {
    "duration": 10,
    "start_time": "2025-05-08T09:50:31.171Z"
   },
   {
    "duration": 8,
    "start_time": "2025-05-08T09:50:49.188Z"
   },
   {
    "duration": 3108,
    "start_time": "2025-05-08T09:50:59.663Z"
   },
   {
    "duration": 3204,
    "start_time": "2025-05-08T09:51:02.773Z"
   },
   {
    "duration": 5783,
    "start_time": "2025-05-08T09:51:05.979Z"
   },
   {
    "duration": 3010,
    "start_time": "2025-05-08T09:51:11.765Z"
   },
   {
    "duration": 14963,
    "start_time": "2025-05-08T09:51:14.777Z"
   },
   {
    "duration": 979,
    "start_time": "2025-05-08T09:51:29.742Z"
   },
   {
    "duration": 14,
    "start_time": "2025-05-08T09:51:30.723Z"
   },
   {
    "duration": 299,
    "start_time": "2025-05-08T09:51:30.739Z"
   },
   {
    "duration": 2088,
    "start_time": "2025-05-08T09:51:31.040Z"
   },
   {
    "duration": 4,
    "start_time": "2025-05-08T09:51:33.131Z"
   },
   {
    "duration": 851506,
    "start_time": "2025-05-08T09:51:33.136Z"
   },
   {
    "duration": 32,
    "start_time": "2025-05-08T10:05:44.644Z"
   },
   {
    "duration": 15,
    "start_time": "2025-05-08T10:05:44.678Z"
   },
   {
    "duration": 23278,
    "start_time": "2025-05-08T10:05:44.695Z"
   },
   {
    "duration": 82005,
    "start_time": "2025-05-08T10:06:07.975Z"
   },
   {
    "duration": 3,
    "start_time": "2025-05-08T10:07:29.982Z"
   },
   {
    "duration": 111254,
    "start_time": "2025-05-08T10:07:29.987Z"
   },
   {
    "duration": 5,
    "start_time": "2025-05-08T10:09:21.244Z"
   },
   {
    "duration": 313,
    "start_time": "2025-05-08T10:09:21.250Z"
   },
   {
    "duration": 28,
    "start_time": "2025-05-08T10:09:21.564Z"
   },
   {
    "duration": 345,
    "start_time": "2025-05-08T10:09:21.594Z"
   },
   {
    "duration": 21,
    "start_time": "2025-05-08T10:09:21.941Z"
   },
   {
    "duration": 1273079,
    "start_time": "2025-05-08T10:09:21.963Z"
   },
   {
    "duration": 228,
    "start_time": "2025-05-08T10:30:35.045Z"
   },
   {
    "duration": 0,
    "start_time": "2025-05-08T10:30:35.275Z"
   },
   {
    "duration": 0,
    "start_time": "2025-05-08T10:30:35.276Z"
   },
   {
    "duration": 0,
    "start_time": "2025-05-08T10:30:35.278Z"
   },
   {
    "duration": 0,
    "start_time": "2025-05-08T10:30:35.279Z"
   },
   {
    "duration": 0,
    "start_time": "2025-05-08T10:30:35.280Z"
   },
   {
    "duration": 0,
    "start_time": "2025-05-08T10:30:35.281Z"
   },
   {
    "duration": 0,
    "start_time": "2025-05-08T10:30:35.282Z"
   },
   {
    "duration": 0,
    "start_time": "2025-05-08T10:30:35.284Z"
   },
   {
    "duration": 0,
    "start_time": "2025-05-08T10:30:35.285Z"
   },
   {
    "duration": 0,
    "start_time": "2025-05-08T10:30:35.286Z"
   },
   {
    "duration": 9367,
    "start_time": "2025-05-08T10:36:11.470Z"
   },
   {
    "duration": 3124,
    "start_time": "2025-05-08T10:36:45.116Z"
   },
   {
    "duration": 248,
    "start_time": "2025-05-08T10:36:48.335Z"
   },
   {
    "duration": 95,
    "start_time": "2025-05-08T10:36:48.585Z"
   },
   {
    "duration": 1528,
    "start_time": "2025-05-08T10:37:15.120Z"
   },
   {
    "duration": 1588,
    "start_time": "2025-05-08T10:38:28.215Z"
   },
   {
    "duration": 1507,
    "start_time": "2025-05-08T10:39:55.323Z"
   },
   {
    "duration": 1510,
    "start_time": "2025-05-08T10:40:40.562Z"
   },
   {
    "duration": 1530,
    "start_time": "2025-05-08T10:41:34.913Z"
   },
   {
    "duration": 4,
    "start_time": "2025-05-08T10:43:02.367Z"
   },
   {
    "duration": 1501,
    "start_time": "2025-05-08T10:43:55.949Z"
   },
   {
    "duration": 1475,
    "start_time": "2025-05-08T10:45:25.211Z"
   },
   {
    "duration": 3,
    "start_time": "2025-05-08T10:46:40.160Z"
   },
   {
    "duration": 1536,
    "start_time": "2025-05-08T10:46:48.491Z"
   },
   {
    "duration": 1478,
    "start_time": "2025-05-08T10:49:20.712Z"
   },
   {
    "duration": 1529,
    "start_time": "2025-05-08T10:50:58.617Z"
   },
   {
    "duration": 1539,
    "start_time": "2025-05-08T10:51:41.864Z"
   },
   {
    "duration": 1537,
    "start_time": "2025-05-08T10:52:31.177Z"
   },
   {
    "duration": 7259,
    "start_time": "2025-05-08T10:54:52.001Z"
   },
   {
    "duration": 3,
    "start_time": "2025-05-08T10:57:21.555Z"
   },
   {
    "duration": 1987,
    "start_time": "2025-05-08T10:57:26.569Z"
   },
   {
    "duration": 247,
    "start_time": "2025-05-08T10:57:57.813Z"
   },
   {
    "duration": 44650,
    "start_time": "2025-05-08T10:58:31.593Z"
   },
   {
    "duration": 44416,
    "start_time": "2025-05-08T11:00:49.327Z"
   },
   {
    "duration": 45047,
    "start_time": "2025-05-08T11:02:30.891Z"
   },
   {
    "duration": 8,
    "start_time": "2025-05-08T11:10:08.381Z"
   },
   {
    "duration": 2,
    "start_time": "2025-05-08T11:17:39.041Z"
   },
   {
    "duration": 2,
    "start_time": "2025-05-08T11:17:43.566Z"
   },
   {
    "duration": 2,
    "start_time": "2025-05-08T11:17:47.831Z"
   },
   {
    "duration": 3,
    "start_time": "2025-05-08T11:17:50.653Z"
   },
   {
    "duration": 2,
    "start_time": "2025-05-08T11:17:53.597Z"
   },
   {
    "duration": 2,
    "start_time": "2025-05-08T11:17:56.981Z"
   },
   {
    "duration": 3,
    "start_time": "2025-05-08T11:17:59.677Z"
   },
   {
    "duration": 19,
    "start_time": "2025-05-08T11:22:51.451Z"
   },
   {
    "duration": 1312794,
    "start_time": "2025-05-08T11:22:57.839Z"
   },
   {
    "duration": 9117,
    "start_time": "2025-05-08T11:47:08.121Z"
   },
   {
    "duration": 3219,
    "start_time": "2025-05-08T11:47:26.221Z"
   },
   {
    "duration": 203,
    "start_time": "2025-05-08T11:47:33.276Z"
   },
   {
    "duration": 4088,
    "start_time": "2025-05-08T11:48:15.758Z"
   },
   {
    "duration": 224,
    "start_time": "2025-05-08T11:48:22.757Z"
   },
   {
    "duration": 1935,
    "start_time": "2025-05-08T11:48:32.226Z"
   },
   {
    "duration": 50202,
    "start_time": "2025-05-08T11:48:38.853Z"
   },
   {
    "duration": 51407,
    "start_time": "2025-05-08T11:49:40.263Z"
   },
   {
    "duration": 88,
    "start_time": "2025-05-08T12:05:21.551Z"
   },
   {
    "duration": 3084,
    "start_time": "2025-05-08T12:07:33.750Z"
   },
   {
    "duration": 2987,
    "start_time": "2025-05-08T12:07:36.837Z"
   },
   {
    "duration": 6453,
    "start_time": "2025-05-08T12:07:39.827Z"
   },
   {
    "duration": 3047,
    "start_time": "2025-05-08T12:07:46.282Z"
   },
   {
    "duration": 9495,
    "start_time": "2025-05-08T12:07:49.332Z"
   },
   {
    "duration": 1037,
    "start_time": "2025-05-08T12:07:58.829Z"
   },
   {
    "duration": 13,
    "start_time": "2025-05-08T12:07:59.868Z"
   },
   {
    "duration": 313,
    "start_time": "2025-05-08T12:07:59.883Z"
   },
   {
    "duration": 2139,
    "start_time": "2025-05-08T12:08:00.198Z"
   },
   {
    "duration": 4,
    "start_time": "2025-05-08T12:08:02.339Z"
   },
   {
    "duration": 928408,
    "start_time": "2025-05-08T12:08:02.345Z"
   },
   {
    "duration": 44,
    "start_time": "2025-05-08T12:23:30.756Z"
   },
   {
    "duration": 49,
    "start_time": "2025-05-08T12:23:30.803Z"
   },
   {
    "duration": 24933,
    "start_time": "2025-05-08T12:23:30.856Z"
   },
   {
    "duration": 95482,
    "start_time": "2025-05-08T12:23:55.791Z"
   },
   {
    "duration": 3,
    "start_time": "2025-05-08T12:25:31.275Z"
   },
   {
    "duration": 115664,
    "start_time": "2025-05-08T12:25:31.280Z"
   },
   {
    "duration": 97,
    "start_time": "2025-05-08T12:27:26.946Z"
   },
   {
    "duration": 225,
    "start_time": "2025-05-08T12:27:27.045Z"
   },
   {
    "duration": 28,
    "start_time": "2025-05-08T12:27:27.272Z"
   },
   {
    "duration": 349,
    "start_time": "2025-05-08T12:27:27.301Z"
   },
   {
    "duration": 27,
    "start_time": "2025-05-08T12:27:27.652Z"
   },
   {
    "duration": 1786313,
    "start_time": "2025-05-08T12:27:27.681Z"
   },
   {
    "duration": 35240,
    "start_time": "2025-05-08T12:57:13.997Z"
   },
   {
    "duration": 4698,
    "start_time": "2025-05-08T12:57:49.243Z"
   },
   {
    "duration": 322,
    "start_time": "2025-05-08T12:57:53.948Z"
   },
   {
    "duration": 2633,
    "start_time": "2025-05-08T12:57:54.272Z"
   },
   {
    "duration": 53048,
    "start_time": "2025-05-08T12:57:56.908Z"
   }
  ],
  "kernelspec": {
   "display_name": "Python 3 (ipykernel)",
   "language": "python",
   "name": "python3"
  },
  "language_info": {
   "codemirror_mode": {
    "name": "ipython",
    "version": 3
   },
   "file_extension": ".py",
   "mimetype": "text/x-python",
   "name": "python",
   "nbconvert_exporter": "python",
   "pygments_lexer": "ipython3",
   "version": "3.9.5"
  },
  "toc": {
   "base_numbering": 1,
   "nav_menu": {},
   "number_sections": true,
   "sideBar": true,
   "skip_h1_title": true,
   "title_cell": "Содержание",
   "title_sidebar": "Contents",
   "toc_cell": true,
   "toc_position": {
    "height": "calc(100% - 180px)",
    "left": "10px",
    "top": "150px",
    "width": "302.391px"
   },
   "toc_section_display": true,
   "toc_window_display": false
  }
 },
 "nbformat": 4,
 "nbformat_minor": 2
}
